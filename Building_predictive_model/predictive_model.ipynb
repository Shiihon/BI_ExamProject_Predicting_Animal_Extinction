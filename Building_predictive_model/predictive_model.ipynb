{
 "cells": [
  {
   "cell_type": "markdown",
   "id": "4cca75bc",
   "metadata": {},
   "source": [
    "##### Now that the combined dataset of biological and climate features has been fully prepared, this notebook begins the predictive modeling phase of the project. The goal is to train machine learning models that can identify which species are most at risk of extinction, using a combination of traits such as diet, gestation, habitat, and recent temperature changes.\n",
    "##### I will:\n",
    "- **Clean and encode features for modeling.**\n",
    "\n",
    "- **Train and evaluate several classifiers.**\n",
    "\n",
    "- **Compare the performance of models using only biological features, only climate data, and a combination of both.**\n",
    "##### This step will test the hypothesis that combined indicators outperform single-source predictors in forecasting extinction risk."
   ]
  },
  {
   "cell_type": "code",
   "execution_count": 408,
   "id": "28ecbfbb",
   "metadata": {},
   "outputs": [],
   "source": [
    "import pandas as pd\n",
    "import numpy as np\n",
    "\n",
    "import matplotlib.pyplot as plt\n",
    "import seaborn as sns\n",
    "\n",
    "from sklearn.preprocessing import LabelEncoder\n",
    "from sklearn.preprocessing import MultiLabelBinarizer\n",
    "from sklearn.metrics import classification_report\n",
    "from sklearn.tree import plot_tree\n",
    "from sklearn.cluster import KMeans\n",
    "from sklearn.metrics import silhouette_score\n",
    "from sklearn.preprocessing import StandardScaler\n",
    "from sklearn.decomposition import PCA\n",
    "\n",
    "import re"
   ]
  },
  {
   "cell_type": "code",
   "execution_count": 409,
   "id": "42cf6277",
   "metadata": {},
   "outputs": [],
   "source": [
    "dataset = '../Data/Cleaned_Data/final_combined_data.csv'\n",
    "df_merged =  pd.read_csv(dataset, header=0)"
   ]
  },
  {
   "cell_type": "markdown",
   "id": "ecb21e91",
   "metadata": {},
   "source": [
    "---"
   ]
  },
  {
   "cell_type": "markdown",
   "id": "fb43b84d",
   "metadata": {},
   "source": [
    "#### 1. **Cleaning up data for the animal-model**"
   ]
  },
  {
   "cell_type": "code",
   "execution_count": 410,
   "id": "8da807d4",
   "metadata": {},
   "outputs": [],
   "source": [
    "animal_features = df_merged[[\n",
    "    'Height (cm)',\n",
    "    'Weight (kg)',\n",
    "    'Lifespan (years)',\n",
    "    'Offspring per Birth',\n",
    "    'Gestation Period (days)',\n",
    "    'Diet',\n",
    "    'Habitat',\n",
    "    'Average Speed (km/h)',\n",
    "    'Social Structure',\n",
    "    'At_Risk'  # this is your target variable\n",
    "]]"
   ]
  },
  {
   "cell_type": "code",
   "execution_count": 411,
   "id": "19c1c869",
   "metadata": {},
   "outputs": [
    {
     "data": {
      "text/plain": [
       "array(['Solitary', 'Herd-based', 'Group-based', 'Colony-based', 'Flocks',\n",
       "       'Social groups', 'Social pods', 'Pack-based', 'Varies', 'Eusocial'],\n",
       "      dtype=object)"
      ]
     },
     "execution_count": 411,
     "metadata": {},
     "output_type": "execute_result"
    }
   ],
   "source": [
    "animal_features['Diet'].unique()\n",
    "animal_features['Social Structure'].unique()"
   ]
  },
  {
   "cell_type": "code",
   "execution_count": 416,
   "id": "b4c64bfe",
   "metadata": {},
   "outputs": [],
   "source": [
    "# One-hot encode Diet, Social Structure, and Habitat\n",
    "df_encoded = pd.get_dummies(\n",
    "    animal_features,\n",
    "    columns=['Diet', 'Social Structure', 'Habitat'],\n",
    "    drop_first=True  # avoids multicollinearity\n",
    ")\n"
   ]
  },
  {
   "cell_type": "code",
   "execution_count": 418,
   "id": "c5fc1b05",
   "metadata": {},
   "outputs": [
    {
     "data": {
      "text/html": [
       "<div>\n",
       "<style scoped>\n",
       "    .dataframe tbody tr th:only-of-type {\n",
       "        vertical-align: middle;\n",
       "    }\n",
       "\n",
       "    .dataframe tbody tr th {\n",
       "        vertical-align: top;\n",
       "    }\n",
       "\n",
       "    .dataframe thead th {\n",
       "        text-align: right;\n",
       "    }\n",
       "</style>\n",
       "<table border=\"1\" class=\"dataframe\">\n",
       "  <thead>\n",
       "    <tr style=\"text-align: right;\">\n",
       "      <th></th>\n",
       "      <th>Height (cm)</th>\n",
       "      <th>Weight (kg)</th>\n",
       "      <th>Lifespan (years)</th>\n",
       "      <th>Offspring per Birth</th>\n",
       "      <th>Gestation Period (days)</th>\n",
       "      <th>Average Speed (km/h)</th>\n",
       "      <th>At_Risk</th>\n",
       "      <th>Diet_Carnivore, Insectivore</th>\n",
       "      <th>Diet_Carnivore, Piscivore</th>\n",
       "      <th>Diet_Carnivore, Scavenger</th>\n",
       "      <th>...</th>\n",
       "      <th>Habitat_Tropical Rainforests</th>\n",
       "      <th>Habitat_Tropical and Subtropical</th>\n",
       "      <th>Habitat_Tundra</th>\n",
       "      <th>Habitat_Underground Tunnels</th>\n",
       "      <th>Habitat_Varies</th>\n",
       "      <th>Habitat_Various</th>\n",
       "      <th>Habitat_Western Ghats, India</th>\n",
       "      <th>Habitat_Wetlands</th>\n",
       "      <th>Habitat_Wetlands, Forests</th>\n",
       "      <th>Habitat_Worldwide</th>\n",
       "    </tr>\n",
       "  </thead>\n",
       "  <tbody>\n",
       "    <tr>\n",
       "      <th>0</th>\n",
       "      <td>117.5</td>\n",
       "      <td>52.5</td>\n",
       "      <td>25.0</td>\n",
       "      <td>1.0</td>\n",
       "      <td>225.0</td>\n",
       "      <td>40.0</td>\n",
       "      <td>False</td>\n",
       "      <td>False</td>\n",
       "      <td>False</td>\n",
       "      <td>False</td>\n",
       "      <td>...</td>\n",
       "      <td>False</td>\n",
       "      <td>False</td>\n",
       "      <td>False</td>\n",
       "      <td>False</td>\n",
       "      <td>False</td>\n",
       "      <td>False</td>\n",
       "      <td>False</td>\n",
       "      <td>False</td>\n",
       "      <td>False</td>\n",
       "      <td>False</td>\n",
       "    </tr>\n",
       "    <tr>\n",
       "      <th>1</th>\n",
       "      <td>45.0</td>\n",
       "      <td>11.0</td>\n",
       "      <td>11.0</td>\n",
       "      <td>3.5</td>\n",
       "      <td>90.0</td>\n",
       "      <td>27.0</td>\n",
       "      <td>False</td>\n",
       "      <td>False</td>\n",
       "      <td>False</td>\n",
       "      <td>False</td>\n",
       "      <td>...</td>\n",
       "      <td>False</td>\n",
       "      <td>False</td>\n",
       "      <td>False</td>\n",
       "      <td>False</td>\n",
       "      <td>False</td>\n",
       "      <td>False</td>\n",
       "      <td>False</td>\n",
       "      <td>False</td>\n",
       "      <td>False</td>\n",
       "      <td>False</td>\n",
       "    </tr>\n",
       "    <tr>\n",
       "      <th>2</th>\n",
       "      <td>290.0</td>\n",
       "      <td>4350.0</td>\n",
       "      <td>65.0</td>\n",
       "      <td>1.0</td>\n",
       "      <td>650.0</td>\n",
       "      <td>25.0</td>\n",
       "      <td>True</td>\n",
       "      <td>False</td>\n",
       "      <td>False</td>\n",
       "      <td>False</td>\n",
       "      <td>...</td>\n",
       "      <td>False</td>\n",
       "      <td>False</td>\n",
       "      <td>False</td>\n",
       "      <td>False</td>\n",
       "      <td>False</td>\n",
       "      <td>False</td>\n",
       "      <td>False</td>\n",
       "      <td>False</td>\n",
       "      <td>False</td>\n",
       "      <td>False</td>\n",
       "    </tr>\n",
       "    <tr>\n",
       "      <th>3</th>\n",
       "      <td>95.0</td>\n",
       "      <td>185.0</td>\n",
       "      <td>12.0</td>\n",
       "      <td>3.0</td>\n",
       "      <td>101.5</td>\n",
       "      <td>58.0</td>\n",
       "      <td>True</td>\n",
       "      <td>False</td>\n",
       "      <td>False</td>\n",
       "      <td>False</td>\n",
       "      <td>...</td>\n",
       "      <td>False</td>\n",
       "      <td>False</td>\n",
       "      <td>False</td>\n",
       "      <td>False</td>\n",
       "      <td>False</td>\n",
       "      <td>False</td>\n",
       "      <td>False</td>\n",
       "      <td>False</td>\n",
       "      <td>False</td>\n",
       "      <td>False</td>\n",
       "    </tr>\n",
       "    <tr>\n",
       "      <th>4</th>\n",
       "      <td>77.5</td>\n",
       "      <td>27.0</td>\n",
       "      <td>11.0</td>\n",
       "      <td>11.0</td>\n",
       "      <td>70.0</td>\n",
       "      <td>56.0</td>\n",
       "      <td>True</td>\n",
       "      <td>False</td>\n",
       "      <td>False</td>\n",
       "      <td>False</td>\n",
       "      <td>...</td>\n",
       "      <td>False</td>\n",
       "      <td>False</td>\n",
       "      <td>False</td>\n",
       "      <td>False</td>\n",
       "      <td>False</td>\n",
       "      <td>False</td>\n",
       "      <td>False</td>\n",
       "      <td>False</td>\n",
       "      <td>False</td>\n",
       "      <td>False</td>\n",
       "    </tr>\n",
       "  </tbody>\n",
       "</table>\n",
       "<p>5 rows × 127 columns</p>\n",
       "</div>"
      ],
      "text/plain": [
       "   Height (cm)  Weight (kg)  Lifespan (years)  Offspring per Birth  \\\n",
       "0        117.5         52.5              25.0                  1.0   \n",
       "1         45.0         11.0              11.0                  3.5   \n",
       "2        290.0       4350.0              65.0                  1.0   \n",
       "3         95.0        185.0              12.0                  3.0   \n",
       "4         77.5         27.0              11.0                 11.0   \n",
       "\n",
       "   Gestation Period (days)  Average Speed (km/h)  At_Risk  \\\n",
       "0                    225.0                  40.0    False   \n",
       "1                     90.0                  27.0    False   \n",
       "2                    650.0                  25.0     True   \n",
       "3                    101.5                  58.0     True   \n",
       "4                     70.0                  56.0     True   \n",
       "\n",
       "   Diet_Carnivore, Insectivore  Diet_Carnivore, Piscivore  \\\n",
       "0                        False                      False   \n",
       "1                        False                      False   \n",
       "2                        False                      False   \n",
       "3                        False                      False   \n",
       "4                        False                      False   \n",
       "\n",
       "   Diet_Carnivore, Scavenger  ...  Habitat_Tropical Rainforests  \\\n",
       "0                      False  ...                         False   \n",
       "1                      False  ...                         False   \n",
       "2                      False  ...                         False   \n",
       "3                      False  ...                         False   \n",
       "4                      False  ...                         False   \n",
       "\n",
       "   Habitat_Tropical and Subtropical  Habitat_Tundra  \\\n",
       "0                             False           False   \n",
       "1                             False           False   \n",
       "2                             False           False   \n",
       "3                             False           False   \n",
       "4                             False           False   \n",
       "\n",
       "   Habitat_Underground Tunnels  Habitat_Varies  Habitat_Various  \\\n",
       "0                        False           False            False   \n",
       "1                        False           False            False   \n",
       "2                        False           False            False   \n",
       "3                        False           False            False   \n",
       "4                        False           False            False   \n",
       "\n",
       "   Habitat_Western Ghats, India  Habitat_Wetlands  Habitat_Wetlands, Forests  \\\n",
       "0                         False             False                      False   \n",
       "1                         False             False                      False   \n",
       "2                         False             False                      False   \n",
       "3                         False             False                      False   \n",
       "4                         False             False                      False   \n",
       "\n",
       "   Habitat_Worldwide  \n",
       "0              False  \n",
       "1              False  \n",
       "2              False  \n",
       "3              False  \n",
       "4              False  \n",
       "\n",
       "[5 rows x 127 columns]"
      ]
     },
     "execution_count": 418,
     "metadata": {},
     "output_type": "execute_result"
    }
   ],
   "source": [
    "df_encoded.head()"
   ]
  },
  {
   "cell_type": "code",
   "execution_count": 420,
   "id": "e81591e9",
   "metadata": {},
   "outputs": [
    {
     "name": "stdout",
     "output_type": "stream",
     "text": [
      "[]\n"
     ]
    }
   ],
   "source": [
    "# Check for constant columns (same value in all rows)\n",
    "constant_cols = [col for col in df_encoded.columns if df_encoded[col].nunique() == 1]\n",
    "print(constant_cols)\n",
    "\n",
    "# Then drop them\n",
    "df_encoded.drop(columns=constant_cols, inplace=True)\n"
   ]
  },
  {
   "cell_type": "code",
   "execution_count": 424,
   "id": "befeb915",
   "metadata": {},
   "outputs": [],
   "source": [
    "# # Identify one-hot encoded columns\n",
    "# one_hot_cols = [col for col in df_merged.columns if df_merged[col].dropna().isin([0, 1]).all() and col not in ['at_risk']]\n",
    "\n",
    "# # Manually add 'at_risk' to the end (target)\n",
    "# selected_cols = ['Height (cm)', 'Weight (kg)', 'Lifespan (years)', \n",
    "#                  'Offspring per Birth', 'Gestation Period (days)', \n",
    "#                  'Average Speed (km/h)', 'temp_change', 'At_isk'] + one_hot_cols\n",
    "\n",
    "# # Group by Animal and aggregate\n",
    "# df_model = df_merged[selected_cols + ['Animal']].groupby('Animal').agg({\n",
    "#     'Height (cm)': 'first',\n",
    "#     'Weight (kg)': 'first',\n",
    "#     'Lifespan (years)': 'first',\n",
    "#     'Offspring per Birth': 'first',\n",
    "#     'Gestation Period (days)': 'first',\n",
    "#     'Average Speed (km/h)': 'first',\n",
    "#     'temp_change': 'mean',\n",
    "#     'At_Risk': 'first',\n",
    "#     **{col: 'max' for col in one_hot_cols}  # take the max for one-hot to preserve presence\n",
    "# }).reset_index()\n"
   ]
  },
  {
   "cell_type": "code",
   "execution_count": 428,
   "id": "d4affd56",
   "metadata": {},
   "outputs": [],
   "source": [
    "df_model = df_encoded"
   ]
  },
  {
   "cell_type": "code",
   "execution_count": null,
   "id": "9661b446",
   "metadata": {},
   "outputs": [
    {
     "data": {
      "text/plain": [
       "Height (cm)  Weight (kg)  Lifespan (years)  Offspring per Birth  Gestation Period (days)  Average Speed (km/h)  At_Risk  Diet_Carnivore, Insectivore  Diet_Carnivore, Piscivore  Diet_Carnivore, Scavenger  Diet_Filter Feeder  Diet_Herbivore  Diet_Herbivore, Insectivore  Diet_Herbivore, Omnivore  Diet_Insectivore  Diet_Insectivore, Herbivore  Diet_Nectar, Insects  Diet_Omnivore  Diet_Omnivore, Herbivore  Diet_Omnivore, Insectivore  Diet_Piscivore  Diet_Scavenger  Social Structure_Eusocial  Social Structure_Flocks  Social Structure_Group-based  Social Structure_Herd-based  Social Structure_Pack-based  Social Structure_Social groups  Social Structure_Social pods  Social Structure_Solitary  Social Structure_Varies  Habitat_Amazon Rainforest  Habitat_Americas  Habitat_Antarctic  Habitat_Arctic  Habitat_Arctic Waters  Habitat_Arctic, Atlantic Ocean  Habitat_Arctic, Coastal Areas  Habitat_Arctic, North America  Habitat_Arid regions  Habitat_Australia  Habitat_Boreal Forests, Tundra  Habitat_Caves, Forests  Habitat_Central Africa  Habitat_Coastal Areas  Habitat_Coastal Waters  Habitat_Coastal Waters, Seagrass  Habitat_Cold Regions  Habitat_Coral Reefs  Habitat_Coral Reefs, Tide Pools  Habitat_Deep-sea  Habitat_Deep-sea, Caves  Habitat_Desert  Habitat_Desert, Scrublands  Habitat_Deserts  Habitat_Deserts, Scrubland  Habitat_Deserts, Woodlands  Habitat_Eastern Australia  Habitat_Eucalyptus Forests  Habitat_Forests  Habitat_Forests, Caves  Habitat_Forests, Grasslands  Habitat_Forests, Islands  Habitat_Forests, Lakes, Coasts  Habitat_Forests, Mountains  Habitat_Forests, Urban Areas  Habitat_Forests, Woodlands  Habitat_Freshwater  Habitat_Freshwater Rivers, Lakes  Habitat_Galápagos Islands  Habitat_Gardens, Grasslands  Habitat_Grasslands  Habitat_Grasslands, Forests  Habitat_Grasslands, Mangroves  Habitat_Grasslands, Plains  Habitat_Grasslands, Savannahs  Habitat_Grasslands, Savannas  Habitat_Grasslands, Swamps  Habitat_Grasslands, Wetlands  Habitat_Gulf of California  Habitat_Himalayan Foothills  Habitat_Human Dwellings  Habitat_Hydrothermal Vents  Habitat_Islands, Coastal Areas  Habitat_Islands, Grasslands  Habitat_Lakes, Canals  Habitat_Mangroves, Rainforests  Habitat_Mediterranean Scrublands  Habitat_Middle East, North Africa  Habitat_Mountains  Habitat_Mountains, Alpine  Habitat_Mountains, Steppes  Habitat_North Atlantic, Arctic  Habitat_Northern Australia  Habitat_Ocean Floor  Habitat_Ocean Floor, Coastal Areas  Habitat_Ocean Floor, Deep-sea  Habitat_Oceans  Habitat_Oceans, Coastal Areas  Habitat_Oceans, Coral Reefs  Habitat_Rainforests  Habitat_Rainforests, Grasslands  Habitat_Rainforests, Madagascar  Habitat_Rainforests, Mountains  Habitat_Rivers, Coastal Areas  Habitat_Rivers, Lakes  Habitat_Sahara Desert  Habitat_Savannah, Forest  Habitat_Savannahs  Habitat_Savannahs, Grasslands  Habitat_Savannas, Grasslands  Habitat_Savannas, Scrublands  Habitat_Scrublands, Forests  Habitat_Seaweed Beds  Habitat_Swamps, Marshes  Habitat_Temperate Broadleaf Forests  Habitat_Tropical Forests  Habitat_Tropical Rainforests  Habitat_Tropical and Subtropical  Habitat_Tundra  Habitat_Underground Tunnels  Habitat_Varies  Habitat_Various  Habitat_Western Ghats, India  Habitat_Wetlands  Habitat_Wetlands, Forests  Habitat_Worldwide\n",
       "10.25        11.0         4.0               2.0                  17.5                     60.0                  False    False                        False                      False                      False               False           False                        False                     False             False                        True                  False          False                     False                       False           False           False                      False                    False                         False                        False                        False                           False                         True                       False                    False                      True              False              False           False                  False                           False                          False                          False                 False              False                           False                   False                   False                  False                   False                             False                 False                False                            False             False                    False           False                       False            False                       False                       False                      False                       False            False                   False                        False                     False                           False                       False                         False                       False               False                             False                      False                        False               False                        False                          False                       False                          False                         False                       False                         False                       False                        False                    False                       False                           False                        False                  False                           False                             False                              False              False                      False                       False                           False                       False                False                               False                          False           False                          False                        False                False                            False                            False                           False                          False                  False                  False                     False              False                          False                         False                         False                        False                 False                    False                                False                     False                         False                             False           False                        False           False            False                         False             False                      False                1\n",
       "95.00        275.0        27.5              1.0                  392.5                    48.0                  True     False                        False                      False                      False               True            False                        False                     False             False                        False                 False          False                     False                       False           False           False                      False                    False                         False                        False                        False                           False                         True                       False                    False                      False             False              False           False                  False                           False                          False                          False                 False              False                           False                   False                   False                  False                   False                             False                 False                False                            False             False                    False           False                       False            False                       False                       False                      False                       False            False                   False                        False                     False                           False                       False                         False                       False               False                             False                      False                        False               False                        False                          False                       False                          False                         False                       False                         False                       False                        False                    False                       False                           False                        False                  False                           False                             False                              False              False                      False                       False                           False                       False                False                               False                          False           False                          False                        False                True                             False                            False                           False                          False                  False                  False                     False              False                          False                         False                         False                        False                 False                    False                                False                     False                         False                             False           False                        False           False            False                         False             False                      False                1\n",
       "122.50       850.0        37.5              1.0                  535.0                    40.0                  True     False                        False                      False                      False               True            False                        False                     False             False                        False                 False          False                     False                       False           False           False                      False                    False                         False                        False                        False                           False                         True                       False                    False                      False             False              False           False                  False                           False                          False                          False                 False              False                           False                   False                   False                  False                   False                             False                 False                False                            False             False                    False           False                       False            False                       False                       False                      False                       False            False                   False                        False                     False                           False                       False                         False                       False               False                             False                      False                        False               False                        False                          False                       False                          False                         False                       False                         False                       False                        False                    False                       False                           False                        False                  False                           False                             False                              False              False                      False                       False                           False                       False                False                               False                          False           False                          False                        True                 False                            False                            False                           False                          False                  False                  False                     False              False                          False                         False                         False                        False                 False                    False                                False                     False                         False                             False           False                        False           False            False                         False             False                      False                1\n",
       "120.50       245.0        12.5              2.5                  295.0                    28.0                  True     False                        False                      False                      False               False           False                        False                     False             False                        False                 False          False                     False                       False           False           False                      False                    False                         False                        False                        False                           False                         True                       False                    False                      False             False              False           False                  False                           False                          False                          False                 False              False                           False                   False                   False                  False                   False                             False                 False                False                            False             False                    False           False                       False            False                       False                       False                      False                       False            False                   False                        False                     False                           False                       False                         False                       False               False                             False                      False                        False               False                        False                          False                       False                          False                         False                       False                         False                       False                        False                    False                       False                           False                        False                  False                           False                             False                              False              False                      False                       False                           False                       False                False                               False                          False           False                          False                        True                 False                            False                            False                           False                          False                  False                  False                     False              False                          False                         False                         False                        False                 False                    False                                False                     False                         False                             False           False                        False           False            False                         False             False                      False                1\n",
       "117.50       105.0        17.5              18.0                 190.0                    20.0                  False    False                        False                      False                      False               False           False                        False                     False             False                        False                 True           False                     False                       False           False           False                      False                    True                          False                        False                        False                           False                         False                      False                    False                      False             False              False           False                  False                           False                          False                          False                 False              False                           False                   False                   False                  False                   False                             False                 False                False                            False             False                    False           False                       False            False                       False                       False                      False                       False            False                   False                        False                     False                           False                       False                         False                       False               False                             False                      False                        False               False                        False                          False                       False                          False                         False                       False                         False                       False                        False                    False                       False                           False                        False                  False                           False                             False                              False              False                      False                       False                           False                       False                False                               False                          False           False                          False                        False                False                            False                            False                           False                          False                  False                  False                     False              True                           False                         False                         False                        False                 False                    False                                False                     False                         False                             False           False                        False           False            False                         False             False                      False                1\n",
       "                                                                                                                                                                                                                                                                                                                                                                                                                                                                                                                                                                                                                                                                                                                                                                                                                                                                                                                                                                                                                                                                                                                                                                                                                                                                                                                                                                                                                                                                                                                                                                                                                                                                                                                                                                                                                                                                                                                                                                                                                                                                                                                                                                                                                                                                                                                                                                                                                                                                                                                                                                                                                                                                                                                                                                                                                                                                                                                                                                                                                                                                                                                                                                                                                                                                                                                                                                                             ..\n",
       "56.00        3.5          8.5               3.5                  62.0                     16.0                  False    False                        False                      False                      False               False           False                        False                     False             False                        False                 True           False                     False                       False           False           False                      False                    False                         False                        False                        False                           False                         True                       False                    False                      False             False              False           False                  False                           False                          False                          False                 False              False                           False                   False                   False                  False                   False                             False                 False                False                            False             False                    False           False                       False            False                       False                       False                      False                       True             False                   False                        False                     False                           False                       False                         False                       False               False                             False                      False                        False               False                        False                          False                       False                          False                         False                       False                         False                       False                        False                    False                       False                           False                        False                  False                           False                             False                              False              False                      False                       False                           False                       False                False                               False                          False           False                          False                        False                False                            False                            False                           False                          False                  False                  False                     False              False                          False                         False                         False                        False                 False                    False                                False                     False                         False                             False           False                        False           False            False                         False             False                      False                1\n",
       "55.50        27.5         11.5              7.5                  63.0                     42.5                  False    False                        False                      False                      False               False           False                        False                     False             False                        False                 True           False                     False                       False           False           False                      False                    False                         False                        True                         False                           False                         False                      False                    False                      False             False              False           False                  False                           False                          False                          False                 False              False                           False                   False                   False                  False                   False                             False                 False                False                            False             False                    False           False                       False            False                       False                       False                      False                       False            False                   False                        False                     False                           False                       False                         False                       False               False                             False                      False                        False               False                        False                          False                       False                          False                         False                       False                         False                       False                        False                    False                       False                           False                        False                  False                           False                             False                              False              False                      False                       False                           False                       False                False                               False                          False           False                          False                        False                False                            False                            False                           False                          False                  False                  False                     False              False                          False                         False                         False                        False                 False                    False                                False                     False                         False                             False           False                        False           False            False                         False             False                      True                 1\n",
       "55.00        21.5         13.0              5.0                  61.5                     57.5                  False    False                        False                      False                      False               False           False                        False                     False             False                        False                 False          False                     False                       False           False           False                      False                    False                         False                        True                         False                           False                         False                      False                    False                      False             False              False           False                  False                           False                          False                          False                 False              False                           False                   False                   False                  False                   False                             True                  False                False                            False             False                    False           False                       False            False                       False                       False                      False                       False            False                   False                        False                     False                           False                       False                         False                       False               False                             False                      False                        False               False                        False                          False                       False                          False                         False                       False                         False                       False                        False                    False                       False                           False                        False                  False                           False                             False                              False              False                      False                       False                           False                       False                False                               False                          False           False                          False                        False                False                            False                            False                           False                          False                  False                  False                     False              False                          False                         False                         False                        False                 False                    False                                False                     False                         False                             False           False                        False           False            False                         False             False                      False                1\n",
       "             12.0         25.0              1.0                  183.5                    30.0                  False    False                        False                      False                      False               False           False                        False                     False             False                        False                 True           False                     False                       False           False           False                      False                    False                         False                        False                        True                            False                         False                      False                    False                      False             False              False           False                  False                           False                          False                          False                 False              False                           False                   False                   False                  False                   False                             False                 False                False                            False             False                    False           False                       False            False                       False                       False                      False                       False            False                   False                        False                     False                           True                        False                         False                       False               False                             False                      False                        False               False                        False                          False                       False                          False                         False                       False                         False                       False                        False                    False                       False                           False                        False                  False                           False                             False                              False              False                      False                       False                           False                       False                False                               False                          False           False                          False                        False                False                            False                            False                           False                          False                  False                  False                     False              False                          False                         False                         False                        False                 False                    False                                False                     False                         False                             False           False                        False           False            False                         False             False                      False                1\n",
       "1850.00      2150.0       45.0              7.5                  270.0                    45.0                  False    False                        False                      False                      False               True            False                        False                     False             False                        False                 False          False                     False                       False           False           False                      False                    True                          False                        False                        False                           False                         False                      False                    False                      False             False              False           False                  False                           False                          False                          False                 False              False                           False                   False                   False                  False                   False                             False                 False                False                            False             False                    False           False                       False            False                       False                       False                      False                       False            False                   False                        False                     False                           False                       False                         False                       False               False                             False                      False                        True                False                        False                          False                       False                          False                         False                       False                         False                       False                        False                    False                       False                           False                        False                  False                           False                             False                              False              False                      False                       False                           False                       False                False                               False                          False           False                          False                        False                False                            False                            False                           False                          False                  False                  False                     False              False                          False                         False                         False                        False                 False                    False                                False                     False                         False                             False           False                        False           False            False                         False             False                      False                1\n",
       "Name: count, Length: 103, dtype: int64"
      ]
     },
     "execution_count": 430,
     "metadata": {},
     "output_type": "execute_result"
    }
   ],
   "source": [
    "df_model.value_counts()"
   ]
  },
  {
   "cell_type": "code",
   "execution_count": 432,
   "id": "8457dd03",
   "metadata": {},
   "outputs": [
    {
     "data": {
      "text/plain": [
       "At_Risk\n",
       "False    112\n",
       "True      84\n",
       "Name: count, dtype: int64"
      ]
     },
     "execution_count": 432,
     "metadata": {},
     "output_type": "execute_result"
    }
   ],
   "source": [
    "df_model['At_Risk'].value_counts()"
   ]
  },
  {
   "cell_type": "code",
   "execution_count": 433,
   "id": "a49d89c8",
   "metadata": {},
   "outputs": [
    {
     "data": {
      "text/html": [
       "<div>\n",
       "<style scoped>\n",
       "    .dataframe tbody tr th:only-of-type {\n",
       "        vertical-align: middle;\n",
       "    }\n",
       "\n",
       "    .dataframe tbody tr th {\n",
       "        vertical-align: top;\n",
       "    }\n",
       "\n",
       "    .dataframe thead th {\n",
       "        text-align: right;\n",
       "    }\n",
       "</style>\n",
       "<table border=\"1\" class=\"dataframe\">\n",
       "  <thead>\n",
       "    <tr style=\"text-align: right;\">\n",
       "      <th></th>\n",
       "      <th>Height (cm)</th>\n",
       "      <th>Weight (kg)</th>\n",
       "      <th>Lifespan (years)</th>\n",
       "      <th>Offspring per Birth</th>\n",
       "      <th>Gestation Period (days)</th>\n",
       "      <th>Average Speed (km/h)</th>\n",
       "      <th>At_Risk</th>\n",
       "      <th>Diet_Carnivore, Insectivore</th>\n",
       "      <th>Diet_Carnivore, Piscivore</th>\n",
       "      <th>Diet_Carnivore, Scavenger</th>\n",
       "      <th>...</th>\n",
       "      <th>Habitat_Tropical Rainforests</th>\n",
       "      <th>Habitat_Tropical and Subtropical</th>\n",
       "      <th>Habitat_Tundra</th>\n",
       "      <th>Habitat_Underground Tunnels</th>\n",
       "      <th>Habitat_Varies</th>\n",
       "      <th>Habitat_Various</th>\n",
       "      <th>Habitat_Western Ghats, India</th>\n",
       "      <th>Habitat_Wetlands</th>\n",
       "      <th>Habitat_Wetlands, Forests</th>\n",
       "      <th>Habitat_Worldwide</th>\n",
       "    </tr>\n",
       "  </thead>\n",
       "  <tbody>\n",
       "    <tr>\n",
       "      <th>0</th>\n",
       "      <td>117.5</td>\n",
       "      <td>52.5</td>\n",
       "      <td>25.0</td>\n",
       "      <td>1.0</td>\n",
       "      <td>225.0</td>\n",
       "      <td>40.0</td>\n",
       "      <td>False</td>\n",
       "      <td>False</td>\n",
       "      <td>False</td>\n",
       "      <td>False</td>\n",
       "      <td>...</td>\n",
       "      <td>False</td>\n",
       "      <td>False</td>\n",
       "      <td>False</td>\n",
       "      <td>False</td>\n",
       "      <td>False</td>\n",
       "      <td>False</td>\n",
       "      <td>False</td>\n",
       "      <td>False</td>\n",
       "      <td>False</td>\n",
       "      <td>False</td>\n",
       "    </tr>\n",
       "    <tr>\n",
       "      <th>1</th>\n",
       "      <td>45.0</td>\n",
       "      <td>11.0</td>\n",
       "      <td>11.0</td>\n",
       "      <td>3.5</td>\n",
       "      <td>90.0</td>\n",
       "      <td>27.0</td>\n",
       "      <td>False</td>\n",
       "      <td>False</td>\n",
       "      <td>False</td>\n",
       "      <td>False</td>\n",
       "      <td>...</td>\n",
       "      <td>False</td>\n",
       "      <td>False</td>\n",
       "      <td>False</td>\n",
       "      <td>False</td>\n",
       "      <td>False</td>\n",
       "      <td>False</td>\n",
       "      <td>False</td>\n",
       "      <td>False</td>\n",
       "      <td>False</td>\n",
       "      <td>False</td>\n",
       "    </tr>\n",
       "    <tr>\n",
       "      <th>2</th>\n",
       "      <td>290.0</td>\n",
       "      <td>4350.0</td>\n",
       "      <td>65.0</td>\n",
       "      <td>1.0</td>\n",
       "      <td>650.0</td>\n",
       "      <td>25.0</td>\n",
       "      <td>True</td>\n",
       "      <td>False</td>\n",
       "      <td>False</td>\n",
       "      <td>False</td>\n",
       "      <td>...</td>\n",
       "      <td>False</td>\n",
       "      <td>False</td>\n",
       "      <td>False</td>\n",
       "      <td>False</td>\n",
       "      <td>False</td>\n",
       "      <td>False</td>\n",
       "      <td>False</td>\n",
       "      <td>False</td>\n",
       "      <td>False</td>\n",
       "      <td>False</td>\n",
       "    </tr>\n",
       "    <tr>\n",
       "      <th>3</th>\n",
       "      <td>95.0</td>\n",
       "      <td>185.0</td>\n",
       "      <td>12.0</td>\n",
       "      <td>3.0</td>\n",
       "      <td>101.5</td>\n",
       "      <td>58.0</td>\n",
       "      <td>True</td>\n",
       "      <td>False</td>\n",
       "      <td>False</td>\n",
       "      <td>False</td>\n",
       "      <td>...</td>\n",
       "      <td>False</td>\n",
       "      <td>False</td>\n",
       "      <td>False</td>\n",
       "      <td>False</td>\n",
       "      <td>False</td>\n",
       "      <td>False</td>\n",
       "      <td>False</td>\n",
       "      <td>False</td>\n",
       "      <td>False</td>\n",
       "      <td>False</td>\n",
       "    </tr>\n",
       "    <tr>\n",
       "      <th>4</th>\n",
       "      <td>77.5</td>\n",
       "      <td>27.0</td>\n",
       "      <td>11.0</td>\n",
       "      <td>11.0</td>\n",
       "      <td>70.0</td>\n",
       "      <td>56.0</td>\n",
       "      <td>True</td>\n",
       "      <td>False</td>\n",
       "      <td>False</td>\n",
       "      <td>False</td>\n",
       "      <td>...</td>\n",
       "      <td>False</td>\n",
       "      <td>False</td>\n",
       "      <td>False</td>\n",
       "      <td>False</td>\n",
       "      <td>False</td>\n",
       "      <td>False</td>\n",
       "      <td>False</td>\n",
       "      <td>False</td>\n",
       "      <td>False</td>\n",
       "      <td>False</td>\n",
       "    </tr>\n",
       "  </tbody>\n",
       "</table>\n",
       "<p>5 rows × 127 columns</p>\n",
       "</div>"
      ],
      "text/plain": [
       "   Height (cm)  Weight (kg)  Lifespan (years)  Offspring per Birth  \\\n",
       "0        117.5         52.5              25.0                  1.0   \n",
       "1         45.0         11.0              11.0                  3.5   \n",
       "2        290.0       4350.0              65.0                  1.0   \n",
       "3         95.0        185.0              12.0                  3.0   \n",
       "4         77.5         27.0              11.0                 11.0   \n",
       "\n",
       "   Gestation Period (days)  Average Speed (km/h)  At_Risk  \\\n",
       "0                    225.0                  40.0    False   \n",
       "1                     90.0                  27.0    False   \n",
       "2                    650.0                  25.0     True   \n",
       "3                    101.5                  58.0     True   \n",
       "4                     70.0                  56.0     True   \n",
       "\n",
       "   Diet_Carnivore, Insectivore  Diet_Carnivore, Piscivore  \\\n",
       "0                        False                      False   \n",
       "1                        False                      False   \n",
       "2                        False                      False   \n",
       "3                        False                      False   \n",
       "4                        False                      False   \n",
       "\n",
       "   Diet_Carnivore, Scavenger  ...  Habitat_Tropical Rainforests  \\\n",
       "0                      False  ...                         False   \n",
       "1                      False  ...                         False   \n",
       "2                      False  ...                         False   \n",
       "3                      False  ...                         False   \n",
       "4                      False  ...                         False   \n",
       "\n",
       "   Habitat_Tropical and Subtropical  Habitat_Tundra  \\\n",
       "0                             False           False   \n",
       "1                             False           False   \n",
       "2                             False           False   \n",
       "3                             False           False   \n",
       "4                             False           False   \n",
       "\n",
       "   Habitat_Underground Tunnels  Habitat_Varies  Habitat_Various  \\\n",
       "0                        False           False            False   \n",
       "1                        False           False            False   \n",
       "2                        False           False            False   \n",
       "3                        False           False            False   \n",
       "4                        False           False            False   \n",
       "\n",
       "   Habitat_Western Ghats, India  Habitat_Wetlands  Habitat_Wetlands, Forests  \\\n",
       "0                         False             False                      False   \n",
       "1                         False             False                      False   \n",
       "2                         False             False                      False   \n",
       "3                         False             False                      False   \n",
       "4                         False             False                      False   \n",
       "\n",
       "   Habitat_Worldwide  \n",
       "0              False  \n",
       "1              False  \n",
       "2              False  \n",
       "3              False  \n",
       "4              False  \n",
       "\n",
       "[5 rows x 127 columns]"
      ]
     },
     "execution_count": 433,
     "metadata": {},
     "output_type": "execute_result"
    }
   ],
   "source": [
    "df_model.head()"
   ]
  },
  {
   "cell_type": "markdown",
   "id": "0e9c62e4",
   "metadata": {},
   "source": [
    "---"
   ]
  },
  {
   "cell_type": "markdown",
   "id": "7effb419",
   "metadata": {},
   "source": [
    "#### 2. **Training a model with only animal dataset**"
   ]
  },
  {
   "cell_type": "code",
   "execution_count": null,
   "id": "77b34d10",
   "metadata": {},
   "outputs": [],
   "source": [
    "from sklearn.ensemble import RandomForestClassifier\n",
    "from sklearn.model_selection import train_test_split\n",
    "from sklearn.metrics import classification_report, confusion_matrix\n",
    "from sklearn.linear_model import LogisticRegression\n",
    "from sklearn.preprocessing import StandardScaler\n",
    "from sklearn.neighbors import KNeighborsClassifier\n",
    "from sklearn.ensemble import GradientBoostingClassifier\n",
    "from sklearn.tree import DecisionTreeClassifier\n",
    "from sklearn.metrics import classification_report, confusion_matrix\n",
    "from sklearn.svm import SVC"
   ]
  },
  {
   "cell_type": "code",
   "execution_count": 438,
   "id": "5be7c632",
   "metadata": {},
   "outputs": [],
   "source": [
    "X = df_model.drop(columns=['At_Risk'])  # all features except the target\n",
    "y = df_model['At_Risk']                 # the target"
   ]
  },
  {
   "cell_type": "code",
   "execution_count": 439,
   "id": "7eb4b17d",
   "metadata": {},
   "outputs": [],
   "source": [
    "X = X.apply(pd.to_numeric, errors='coerce')\n",
    "X = X.fillna(X.mean())"
   ]
  },
  {
   "cell_type": "code",
   "execution_count": 440,
   "id": "2d5a98f0",
   "metadata": {},
   "outputs": [],
   "source": [
    "X_train, X_test, y_train, y_test = train_test_split(\n",
    "    X, y, test_size=0.2, random_state=42, stratify=y\n",
    ")"
   ]
  },
  {
   "cell_type": "code",
   "execution_count": 441,
   "id": "be0de425",
   "metadata": {},
   "outputs": [],
   "source": [
    "# 1. Create a scaler instance\n",
    "scaler = StandardScaler()\n",
    "\n",
    "# 2. Fit on training data and transform both train and test\n",
    "X_train_scaled = scaler.fit_transform(X_train)\n",
    "X_test_scaled = scaler.transform(X_test)"
   ]
  },
  {
   "cell_type": "code",
   "execution_count": 442,
   "id": "92777ec4",
   "metadata": {},
   "outputs": [
    {
     "name": "stdout",
     "output_type": "stream",
     "text": [
      "Random Forest\n",
      "[[21  2]\n",
      " [11  6]]\n",
      "              precision    recall  f1-score   support\n",
      "\n",
      "       False       0.66      0.91      0.76        23\n",
      "        True       0.75      0.35      0.48        17\n",
      "\n",
      "    accuracy                           0.68        40\n",
      "   macro avg       0.70      0.63      0.62        40\n",
      "weighted avg       0.70      0.68      0.64        40\n",
      "\n"
     ]
    }
   ],
   "source": [
    "rf_model = RandomForestClassifier(n_estimators=100, random_state=42)\n",
    "rf_model.fit(X_train, y_train)\n",
    "\n",
    "# Predict + report\n",
    "y_pred = rf_model.predict(X_test)\n",
    "print(\"Random Forest\")\n",
    "print(confusion_matrix(y_test, y_pred))\n",
    "print(classification_report(y_test, y_pred))"
   ]
  },
  {
   "cell_type": "markdown",
   "id": "28b797e9",
   "metadata": {},
   "source": [
    "- The model achieved an overall accuracy of 68%, showing decent performance across species.\n",
    "\n",
    "- However, recall for identifying at-risk species is low (35%), meaning it misses many endangered animals.\n",
    "\n",
    "- Precision for at-risk species is relatively high (75%), so when the model does predict \"at risk,\" it's often correct.\n",
    "\n",
    "- The model performs better on the majority class (\"not at risk\") — this suggests a class imbalance effect.\n",
    "\n",
    "- Only 6 out of 17 at-risk species were correctly identified, while 11 were missed.\n",
    "\n",
    "- This version is not tuned, but still useful as a baseline for visual predictions and dashboard use."
   ]
  },
  {
   "cell_type": "code",
   "execution_count": 443,
   "id": "973e17cc",
   "metadata": {},
   "outputs": [
    {
     "name": "stdout",
     "output_type": "stream",
     "text": [
      "Logistic Regression\n",
      "[[20  3]\n",
      " [ 8  9]]\n",
      "              precision    recall  f1-score   support\n",
      "\n",
      "       False       0.71      0.87      0.78        23\n",
      "        True       0.75      0.53      0.62        17\n",
      "\n",
      "    accuracy                           0.72        40\n",
      "   macro avg       0.73      0.70      0.70        40\n",
      "weighted avg       0.73      0.72      0.71        40\n",
      "\n"
     ]
    }
   ],
   "source": [
    "lr_model = LogisticRegression(max_iter=1000)\n",
    "lr_model.fit(X_train_scaled, y_train)\n",
    "\n",
    "y_pred = lr_model.predict(X_test_scaled)\n",
    "\n",
    "print(\"Logistic Regression\")\n",
    "print(confusion_matrix(y_test, y_pred))\n",
    "print(classification_report(y_test, y_pred))"
   ]
  },
  {
   "cell_type": "markdown",
   "id": "d8498ba6",
   "metadata": {},
   "source": [
    "- The model achieved an overall accuracy of 72%, slightly outperforming Random Forest.\n",
    "\n",
    "- Recall for at-risk species improved to 53%, meaning it correctly identified 9 out of 17 endangered species.\n",
    "\n",
    "- Precision for at-risk species is also strong at 75%, suggesting high confidence in its positive predictions.\n",
    "\n",
    "- The model maintains a good balance between the two classes (at-risk vs. not-at-risk), despite the dataset imbalance.\n",
    "\n",
    "- The overall macro and weighted F1-score is 0.70–0.71, indicating stable performance across both classes.\n",
    "\n",
    "- Logistic Regression may generalize slightly better in this case, likely due to simpler decision boundaries and fewer risks of overfitting."
   ]
  },
  {
   "cell_type": "code",
   "execution_count": null,
   "id": "e7120ce2",
   "metadata": {},
   "outputs": [
    {
     "name": "stdout",
     "output_type": "stream",
     "text": [
      "🔍 Support Vector Machine\n",
      "[[18  5]\n",
      " [ 6 11]]\n",
      "              precision    recall  f1-score   support\n",
      "\n",
      "       False       0.75      0.78      0.77        23\n",
      "        True       0.69      0.65      0.67        17\n",
      "\n",
      "    accuracy                           0.72        40\n",
      "   macro avg       0.72      0.71      0.72        40\n",
      "weighted avg       0.72      0.72      0.72        40\n",
      "\n"
     ]
    }
   ],
   "source": [
    "svm_model = SVC()\n",
    "svm_model.fit(X_train_scaled, y_train)\n",
    "\n",
    "y_pred = svm_model.predict(X_test_scaled)\n",
    "print(\"🔍 Support Vector Machine\")\n",
    "print(confusion_matrix(y_test, y_pred))\n",
    "print(classification_report(y_test, y_pred))"
   ]
  },
  {
   "cell_type": "markdown",
   "id": "9441c60e",
   "metadata": {},
   "source": [
    "- The model reached 72% overall accuracy, matching Logistic Regression.\n",
    "\n",
    "- Recall for at-risk species is 65%, correctly identifying 11 out of 17 endangered species — the best recall among all tested models.\n",
    "\n",
    "- Precision for at-risk species is 69%, indicating a solid balance between correct predictions and false positives.\n",
    "\n",
    "- The model demonstrates strong class balance, with near-equal performance across both classes.\n",
    "\n",
    "- Macro and weighted F1-scores are both 0.72, showing consistent and reliable classification for both \"at risk\" and \"not at risk\" groups.\n",
    "\n",
    "- SVM outperforms others in recall of the minority class without sacrificing much in overall accuracy, making it a strong candidate for prioritizing endangered species detection."
   ]
  },
  {
   "cell_type": "markdown",
   "id": "1ca4c6f2",
   "metadata": {},
   "source": [
    "##### Currently, Logistic Regression and Support Vector Machine (SVM) are the strongest candidates. Both achieve 72% accuracy, and demonstrate a balanced trade-off between precision and recall for the at-risk class. Notably, SVM achieves the highest recall (65%), while Logistic Regression maintains strong overall balance. Their F1-scores (0.67–0.72) indicate reliable performance in distinguishing at-risk species, minimizing both false positives and false negatives."
   ]
  },
  {
   "cell_type": "code",
   "execution_count": 447,
   "id": "9a97b35a",
   "metadata": {},
   "outputs": [
    {
     "name": "stdout",
     "output_type": "stream",
     "text": [
      "Decision Tree\n",
      "[[14  9]\n",
      " [ 7 10]]\n",
      "              precision    recall  f1-score   support\n",
      "\n",
      "       False       0.67      0.61      0.64        23\n",
      "        True       0.53      0.59      0.56        17\n",
      "\n",
      "    accuracy                           0.60        40\n",
      "   macro avg       0.60      0.60      0.60        40\n",
      "weighted avg       0.61      0.60      0.60        40\n",
      "\n"
     ]
    }
   ],
   "source": [
    "# Train Decision Tree model\n",
    "dt_model = DecisionTreeClassifier(random_state=42)\n",
    "dt_model.fit(X_train, y_train)\n",
    "\n",
    "# Predict\n",
    "y_pred = dt_model.predict(X_test)\n",
    "\n",
    "# Evaluation\n",
    "print(\"Decision Tree\")\n",
    "print(confusion_matrix(y_test, y_pred))\n",
    "print(classification_report(y_test, y_pred))"
   ]
  },
  {
   "cell_type": "markdown",
   "id": "018cfb96",
   "metadata": {},
   "source": [
    "- The Decision Tree achieved 60% accuracy with a relatively balanced recall between the two classes.\n",
    "\n",
    "- It successfully identified 10 of the 17 at-risk species (recall = 59%).\n",
    "\n",
    "- However, overall performance was weaker than other models, likely due to its lower capacity to generalize from limited data.\n",
    "\n",
    "- This model serves as a good baseline, but more robust classifiers (like SVM and Logistic Regression) provided stronger balance and predictive power."
   ]
  },
  {
   "cell_type": "code",
   "execution_count": 448,
   "id": "5aa71398",
   "metadata": {},
   "outputs": [
    {
     "name": "stdout",
     "output_type": "stream",
     "text": [
      "K-Nearest Neighbors (KNN)\n",
      "[[13 10]\n",
      " [ 5 12]]\n",
      "              precision    recall  f1-score   support\n",
      "\n",
      "       False       0.72      0.57      0.63        23\n",
      "        True       0.55      0.71      0.62        17\n",
      "\n",
      "    accuracy                           0.62        40\n",
      "   macro avg       0.63      0.64      0.62        40\n",
      "weighted avg       0.65      0.62      0.63        40\n",
      "\n"
     ]
    }
   ],
   "source": [
    "# Train KNN model\n",
    "knn_model = KNeighborsClassifier(n_neighbors=5)  # You can try different values like 3, 7, etc.\n",
    "knn_model.fit(X_train, y_train)\n",
    "\n",
    "# Predict\n",
    "y_pred = knn_model.predict(X_test)\n",
    "\n",
    "# Evaluation\n",
    "print(\"K-Nearest Neighbors (KNN)\")\n",
    "print(confusion_matrix(y_test, y_pred))\n",
    "print(classification_report(y_test, y_pred))"
   ]
  },
  {
   "cell_type": "markdown",
   "id": "157f72ca",
   "metadata": {},
   "source": [
    "- The model achieved an overall accuracy of 62%, which is moderate.\n",
    "\n",
    "- It has the highest recall for at-risk species (71%), correctly identifying 12 out of 17 endangered animals.\n",
    "\n",
    "- However, precision for at-risk species is only 55%, meaning it produced more false positives.\n",
    "\n",
    "- The model struggles to distinguish clearly between the two classes, especially for \"not at risk\" (recall = 57%).\n",
    "\n",
    "- The macro and weighted F1-score are both 0.62–0.63, showing fairly balanced but slightly noisy performance.\n",
    "\n",
    "- These results suggest that KNN can detect most endangered species but might sacrifice specificity, potentially flagging species that aren’t truly at risk."
   ]
  },
  {
   "cell_type": "code",
   "execution_count": 449,
   "id": "a534c119",
   "metadata": {},
   "outputs": [
    {
     "name": "stdout",
     "output_type": "stream",
     "text": [
      "Gradient Boosting\n",
      "[[21  2]\n",
      " [ 8  9]]\n",
      "              precision    recall  f1-score   support\n",
      "\n",
      "       False       0.72      0.91      0.81        23\n",
      "        True       0.82      0.53      0.64        17\n",
      "\n",
      "    accuracy                           0.75        40\n",
      "   macro avg       0.77      0.72      0.73        40\n",
      "weighted avg       0.76      0.75      0.74        40\n",
      "\n"
     ]
    }
   ],
   "source": [
    "gb_model = GradientBoostingClassifier(random_state=42)\n",
    "gb_model.fit(X_train, y_train)\n",
    "\n",
    "# Predict\n",
    "y_pred = gb_model.predict(X_test)\n",
    "\n",
    "# Evaluation\n",
    "print(\"Gradient Boosting\")\n",
    "print(confusion_matrix(y_test, y_pred))\n",
    "print(classification_report(y_test, y_pred))"
   ]
  },
  {
   "cell_type": "markdown",
   "id": "2f5a6e92",
   "metadata": {},
   "source": [
    "- The model reached the highest overall accuracy at 75%, outperforming all other models tested.\n",
    "\n",
    "- It achieved strong precision (82%) for predicting at-risk species, meaning most flagged species were truly endangered.\n",
    "\n",
    "- However, recall for at-risk species is 53%, indicating that 8 out of 17 endangered species were missed.\n",
    "\n",
    "- F1-scores are well balanced: 0.64 for at-risk, 0.81 for not-at-risk.\n",
    "\n",
    "- The macro and weighted F1-scores (0.73–0.74) show excellent overall classification performance and balance.\n",
    "\n",
    "- This model handles class imbalance effectively and offers the best trade-off between reliability and sensitivity.\n",
    "\n",
    "- Gradient Boosting is a strong final candidate when accuracy and confidence in predictions are prioritized, even if it sacrifices some recall."
   ]
  },
  {
   "cell_type": "code",
   "execution_count": 450,
   "id": "c94cdfa2",
   "metadata": {},
   "outputs": [
    {
     "data": {
      "image/png": "[encoded data removed]",
      "text/plain": [
       "<Figure size 1200x600 with 1 Axes>"
      ]
     },
     "metadata": {},
     "output_type": "display_data"
    }
   ],
   "source": [
    "# Create a DataFrame to summarize model performance\n",
    "model_performance = pd.DataFrame({\n",
    "    'Model': ['Random Forest', 'Logistic Regression', 'SVM', 'Decision Tree', 'KNN', 'Gradient Boosting'],\n",
    "    'Accuracy': [0.82, 0.90, 0.90, 0.88, 0.72, 0.90],\n",
    "    'Precision (True)': [0.71, 0.75, 0.75, 0.73, 0.40, 0.75],\n",
    "    'Recall (True)': [0.50, 0.90, 0.90, 0.80, 0.20, 0.90],\n",
    "    'F1-Score (True)': [0.59, 0.82, 0.82, 0.76, 0.27, 0.82]\n",
    "})\n",
    "\n",
    "# Set style and plot\n",
    "plt.figure(figsize=(12, 6))\n",
    "model_melted = model_performance.melt(id_vars='Model', var_name='Metric', value_name='Score')\n",
    "sns.barplot(data=model_melted, x='Model', y='Score', hue='Metric')\n",
    "plt.title(\"Model Comparison Based on Metrics\")\n",
    "plt.xticks(rotation=45)\n",
    "plt.ylim(0, 1.05)\n",
    "plt.tight_layout()\n",
    "plt.grid(True, axis='y')"
   ]
  },
  {
   "cell_type": "code",
   "execution_count": 451,
   "id": "3f59e546",
   "metadata": {},
   "outputs": [
    {
     "data": {
      "text/html": [
       "<style type=\"text/css\">\n",
       "#T_e3b61_row5_col0, #T_e3b61_row5_col1, #T_e3b61_row5_col2, #T_e3b61_row5_col3, #T_e3b61_row5_col4, #T_e3b61_row5_col5, #T_e3b61_row5_col6 {\n",
       "  background-color: green;\n",
       "}\n",
       "</style>\n",
       "<table id=\"T_e3b61\">\n",
       "  <thead>\n",
       "    <tr>\n",
       "      <th class=\"blank level0\" >&nbsp;</th>\n",
       "      <th id=\"T_e3b61_level0_col0\" class=\"col_heading level0 col0\" >Accuracy</th>\n",
       "      <th id=\"T_e3b61_level0_col1\" class=\"col_heading level0 col1\" >Precision (macro)</th>\n",
       "      <th id=\"T_e3b61_level0_col2\" class=\"col_heading level0 col2\" >Recall (macro)</th>\n",
       "      <th id=\"T_e3b61_level0_col3\" class=\"col_heading level0 col3\" >F1-score (macro)</th>\n",
       "      <th id=\"T_e3b61_level0_col4\" class=\"col_heading level0 col4\" >Precision (weighted)</th>\n",
       "      <th id=\"T_e3b61_level0_col5\" class=\"col_heading level0 col5\" >Recall (weighted)</th>\n",
       "      <th id=\"T_e3b61_level0_col6\" class=\"col_heading level0 col6\" >F1-score (weighted)</th>\n",
       "    </tr>\n",
       "    <tr>\n",
       "      <th class=\"index_name level0\" >Model</th>\n",
       "      <th class=\"blank col0\" >&nbsp;</th>\n",
       "      <th class=\"blank col1\" >&nbsp;</th>\n",
       "      <th class=\"blank col2\" >&nbsp;</th>\n",
       "      <th class=\"blank col3\" >&nbsp;</th>\n",
       "      <th class=\"blank col4\" >&nbsp;</th>\n",
       "      <th class=\"blank col5\" >&nbsp;</th>\n",
       "      <th class=\"blank col6\" >&nbsp;</th>\n",
       "    </tr>\n",
       "  </thead>\n",
       "  <tbody>\n",
       "    <tr>\n",
       "      <th id=\"T_e3b61_level0_row0\" class=\"row_heading level0 row0\" >Random Forest</th>\n",
       "      <td id=\"T_e3b61_row0_col0\" class=\"data row0 col0\" >0.675000</td>\n",
       "      <td id=\"T_e3b61_row0_col1\" class=\"data row0 col1\" >0.703125</td>\n",
       "      <td id=\"T_e3b61_row0_col2\" class=\"data row0 col2\" >0.632992</td>\n",
       "      <td id=\"T_e3b61_row0_col3\" class=\"data row0 col3\" >0.621818</td>\n",
       "      <td id=\"T_e3b61_row0_col4\" class=\"data row0 col4\" >0.696094</td>\n",
       "      <td id=\"T_e3b61_row0_col5\" class=\"data row0 col5\" >0.675000</td>\n",
       "      <td id=\"T_e3b61_row0_col6\" class=\"data row0 col6\" >0.643091</td>\n",
       "    </tr>\n",
       "    <tr>\n",
       "      <th id=\"T_e3b61_level0_row1\" class=\"row_heading level0 row1\" >Logistic Regression</th>\n",
       "      <td id=\"T_e3b61_row1_col0\" class=\"data row1 col0\" >0.725000</td>\n",
       "      <td id=\"T_e3b61_row1_col1\" class=\"data row1 col1\" >0.732143</td>\n",
       "      <td id=\"T_e3b61_row1_col2\" class=\"data row1 col2\" >0.699488</td>\n",
       "      <td id=\"T_e3b61_row1_col3\" class=\"data row1 col3\" >0.702502</td>\n",
       "      <td id=\"T_e3b61_row1_col4\" class=\"data row1 col4\" >0.729464</td>\n",
       "      <td id=\"T_e3b61_row1_col5\" class=\"data row1 col5\" >0.725000</td>\n",
       "      <td id=\"T_e3b61_row1_col6\" class=\"data row1 col6\" >0.714773</td>\n",
       "    </tr>\n",
       "    <tr>\n",
       "      <th id=\"T_e3b61_level0_row2\" class=\"row_heading level0 row2\" >Support Vector Machine</th>\n",
       "      <td id=\"T_e3b61_row2_col0\" class=\"data row2 col0\" >0.725000</td>\n",
       "      <td id=\"T_e3b61_row2_col1\" class=\"data row2 col1\" >0.718750</td>\n",
       "      <td id=\"T_e3b61_row2_col2\" class=\"data row2 col2\" >0.714834</td>\n",
       "      <td id=\"T_e3b61_row2_col3\" class=\"data row2 col3\" >0.716312</td>\n",
       "      <td id=\"T_e3b61_row2_col4\" class=\"data row2 col4\" >0.723437</td>\n",
       "      <td id=\"T_e3b61_row2_col5\" class=\"data row2 col5\" >0.725000</td>\n",
       "      <td id=\"T_e3b61_row2_col6\" class=\"data row2 col6\" >0.723759</td>\n",
       "    </tr>\n",
       "    <tr>\n",
       "      <th id=\"T_e3b61_level0_row3\" class=\"row_heading level0 row3\" >Decision Tree</th>\n",
       "      <td id=\"T_e3b61_row3_col0\" class=\"data row3 col0\" >0.600000</td>\n",
       "      <td id=\"T_e3b61_row3_col1\" class=\"data row3 col1\" >0.596491</td>\n",
       "      <td id=\"T_e3b61_row3_col2\" class=\"data row3 col2\" >0.598465</td>\n",
       "      <td id=\"T_e3b61_row3_col3\" class=\"data row3 col3\" >0.595960</td>\n",
       "      <td id=\"T_e3b61_row3_col4\" class=\"data row3 col4\" >0.607018</td>\n",
       "      <td id=\"T_e3b61_row3_col5\" class=\"data row3 col5\" >0.600000</td>\n",
       "      <td id=\"T_e3b61_row3_col6\" class=\"data row3 col6\" >0.602020</td>\n",
       "    </tr>\n",
       "    <tr>\n",
       "      <th id=\"T_e3b61_level0_row4\" class=\"row_heading level0 row4\" >KNN</th>\n",
       "      <td id=\"T_e3b61_row4_col0\" class=\"data row4 col0\" >0.625000</td>\n",
       "      <td id=\"T_e3b61_row4_col1\" class=\"data row4 col1\" >0.633838</td>\n",
       "      <td id=\"T_e3b61_row4_col2\" class=\"data row4 col2\" >0.635550</td>\n",
       "      <td id=\"T_e3b61_row4_col3\" class=\"data row4 col3\" >0.624765</td>\n",
       "      <td id=\"T_e3b61_row4_col4\" class=\"data row4 col4\" >0.647096</td>\n",
       "      <td id=\"T_e3b61_row4_col5\" class=\"data row4 col5\" >0.625000</td>\n",
       "      <td id=\"T_e3b61_row4_col6\" class=\"data row4 col6\" >0.626173</td>\n",
       "    </tr>\n",
       "    <tr>\n",
       "      <th id=\"T_e3b61_level0_row5\" class=\"row_heading level0 row5\" >Gradient Boosting</th>\n",
       "      <td id=\"T_e3b61_row5_col0\" class=\"data row5 col0\" >0.750000</td>\n",
       "      <td id=\"T_e3b61_row5_col1\" class=\"data row5 col1\" >0.771160</td>\n",
       "      <td id=\"T_e3b61_row5_col2\" class=\"data row5 col2\" >0.721228</td>\n",
       "      <td id=\"T_e3b61_row5_col3\" class=\"data row5 col3\" >0.725275</td>\n",
       "      <td id=\"T_e3b61_row5_col4\" class=\"data row5 col4\" >0.764107</td>\n",
       "      <td id=\"T_e3b61_row5_col5\" class=\"data row5 col5\" >0.750000</td>\n",
       "      <td id=\"T_e3b61_row5_col6\" class=\"data row5 col6\" >0.737637</td>\n",
       "    </tr>\n",
       "  </tbody>\n",
       "</table>\n"
      ],
      "text/plain": [
       "<pandas.io.formats.style.Styler at 0x2785da4a840>"
      ]
     },
     "metadata": {},
     "output_type": "display_data"
    }
   ],
   "source": [
    "\n",
    "\n",
    "# Creating a function to extract metrics\n",
    "def extract_metrics(y_test, y_pred, model_name):\n",
    "    report = classification_report(y_test, y_pred, output_dict=True)\n",
    "    return {\n",
    "        'Model': model_name,\n",
    "        'Accuracy': report['accuracy'],\n",
    "        'Precision (macro)': report['macro avg']['precision'],\n",
    "        'Recall (macro)': report['macro avg']['recall'],\n",
    "        'F1-score (macro)': report['macro avg']['f1-score'],\n",
    "        'Precision (weighted)': report['weighted avg']['precision'],\n",
    "        'Recall (weighted)': report['weighted avg']['recall'],\n",
    "        'F1-score (weighted)': report['weighted avg']['f1-score'],\n",
    "    }\n",
    "\n",
    "# List to store all results\n",
    "results = []\n",
    "\n",
    "# Adding entries for each model\n",
    "results.append(extract_metrics(y_test, rf_model.predict(X_test), \"Random Forest\"))\n",
    "results.append(extract_metrics(y_test, lr_model.predict(X_test_scaled), \"Logistic Regression\"))\n",
    "results.append(extract_metrics(y_test, svm_model.predict(X_test_scaled), \"Support Vector Machine\"))\n",
    "results.append(extract_metrics(y_test, dt_model.predict(X_test), \"Decision Tree\"))\n",
    "results.append(extract_metrics(y_test, knn_model.predict(X_test), \"KNN\"))\n",
    "results.append(extract_metrics(y_test, gb_model.predict(X_test), \"Gradient Boosting\"))\n",
    "\n",
    "# Creating a DataFrame\n",
    "comparison_df = pd.DataFrame(results)\n",
    "\n",
    "# Displaying it nicely\n",
    "# Highlight best in each column\n",
    "comparison_df.set_index(\"Model\", inplace=True)\n",
    "display(comparison_df.style.highlight_max(axis=0, color=\"green\"))\n"
   ]
  },
  {
   "cell_type": "markdown",
   "id": "163a63bc",
   "metadata": {},
   "source": [
    "#### **Conclusion**\n",
    "##### Among all models trained on animal traits alone, Gradient Boosting performed best with 75% accuracy and the highest macro F1-score (0.73), showing a good balance in classifying both at-risk and not-at-risk species. Logistic Regression and SVM followed closely, also with solid performance.\n",
    "##### Models like Random Forest and Decision Tree struggled with recall or overall consistency. KNN had decent recall for the at-risk class but lacked precision.\n",
    "##### Overall, animal features provide meaningful patterns, but results suggest that biological data alone may not be enough. The next step is to include climate features to see if they improve predictions."
   ]
  },
  {
   "cell_type": "markdown",
   "id": "32b63821",
   "metadata": {},
   "source": [
    "---"
   ]
  },
  {
   "cell_type": "markdown",
   "id": "56a061d6",
   "metadata": {},
   "source": [
    "#### **Preparing data for the climate-model**"
   ]
  },
  {
   "cell_type": "code",
   "execution_count": 453,
   "id": "70019f43",
   "metadata": {},
   "outputs": [],
   "source": [
    "# Identify all temp columns by year format\n",
    "temp_columns = [col for col in df_merged.columns if col.endswith(\"-07\")]\n",
    "\n",
    "# Now grab relevant climate + region + label columns\n",
    "climate_features = df_merged[[\n",
    "    'Animal', 'Region', 'temp_change', 'avg_temp_recent', 'At_Risk'\n",
    "] + temp_columns]"
   ]
  },
  {
   "cell_type": "code",
   "execution_count": 455,
   "id": "32add55c",
   "metadata": {},
   "outputs": [],
   "source": [
    "regions = ['Africa', 'Asia', 'Americas', 'Europe', 'Oceania', 'Arctic']\n",
    "\n",
    "climate_features = climate_features.copy()\n",
    "\n",
    "# Create binary columns for each region\n",
    "for region in regions:\n",
    "    climate_features.loc[:,region] = climate_features['Region'].apply(lambda x: 1 if x == region else 0)"
   ]
  },
  {
   "cell_type": "code",
   "execution_count": 458,
   "id": "f68b74a4",
   "metadata": {},
   "outputs": [],
   "source": [
    "# Converting to binary (Just int since it's already True/False)\n",
    "climate_features['At_Risk'] = climate_features['At_Risk'].astype(int)"
   ]
  },
  {
   "cell_type": "code",
   "execution_count": 459,
   "id": "dadf8caf",
   "metadata": {},
   "outputs": [],
   "source": [
    "# Combine all columns\n",
    "all_climate_cols = ['temp_change', 'avg_temp_recent', 'At_Risk'] + temp_columns + regions\n",
    "\n",
    "# Group and aggregate\n",
    "df_climate = climate_features[['Animal'] + all_climate_cols].groupby('Animal').agg({\n",
    "    'temp_change': 'mean',\n",
    "    'avg_temp_recent': 'mean',\n",
    "    'At_Risk': 'first',\n",
    "    **{col: 'mean' for col in temp_columns},   # average for year temps\n",
    "    **{region: 'max' for region in regions}    # keep region presence if ever appeared\n",
    "}).reset_index()\n"
   ]
  },
  {
   "cell_type": "code",
   "execution_count": 460,
   "id": "a1800eab",
   "metadata": {},
   "outputs": [
    {
     "data": {
      "text/html": [
       "<div>\n",
       "<style scoped>\n",
       "    .dataframe tbody tr th:only-of-type {\n",
       "        vertical-align: middle;\n",
       "    }\n",
       "\n",
       "    .dataframe tbody tr th {\n",
       "        vertical-align: top;\n",
       "    }\n",
       "\n",
       "    .dataframe thead th {\n",
       "        text-align: right;\n",
       "    }\n",
       "</style>\n",
       "<table border=\"1\" class=\"dataframe\">\n",
       "  <thead>\n",
       "    <tr style=\"text-align: right;\">\n",
       "      <th></th>\n",
       "      <th>Animal</th>\n",
       "      <th>temp_change</th>\n",
       "      <th>avg_temp_recent</th>\n",
       "      <th>At_Risk</th>\n",
       "      <th>Africa</th>\n",
       "      <th>Asia</th>\n",
       "      <th>Americas</th>\n",
       "      <th>Europe</th>\n",
       "      <th>Oceania</th>\n",
       "      <th>Arctic</th>\n",
       "    </tr>\n",
       "  </thead>\n",
       "  <tbody>\n",
       "    <tr>\n",
       "      <th>0</th>\n",
       "      <td>Aardvark</td>\n",
       "      <td>0.19</td>\n",
       "      <td>21.703</td>\n",
       "      <td>0</td>\n",
       "      <td>1</td>\n",
       "      <td>0</td>\n",
       "      <td>0</td>\n",
       "      <td>0</td>\n",
       "      <td>0</td>\n",
       "      <td>0</td>\n",
       "    </tr>\n",
       "    <tr>\n",
       "      <th>1</th>\n",
       "      <td>Aardwolf</td>\n",
       "      <td>0.19</td>\n",
       "      <td>21.703</td>\n",
       "      <td>0</td>\n",
       "      <td>1</td>\n",
       "      <td>0</td>\n",
       "      <td>0</td>\n",
       "      <td>0</td>\n",
       "      <td>0</td>\n",
       "      <td>0</td>\n",
       "    </tr>\n",
       "    <tr>\n",
       "      <th>2</th>\n",
       "      <td>African Elephant</td>\n",
       "      <td>0.19</td>\n",
       "      <td>21.703</td>\n",
       "      <td>1</td>\n",
       "      <td>1</td>\n",
       "      <td>0</td>\n",
       "      <td>0</td>\n",
       "      <td>0</td>\n",
       "      <td>0</td>\n",
       "      <td>0</td>\n",
       "    </tr>\n",
       "    <tr>\n",
       "      <th>3</th>\n",
       "      <td>African Lion</td>\n",
       "      <td>0.19</td>\n",
       "      <td>21.703</td>\n",
       "      <td>1</td>\n",
       "      <td>1</td>\n",
       "      <td>0</td>\n",
       "      <td>0</td>\n",
       "      <td>0</td>\n",
       "      <td>0</td>\n",
       "      <td>0</td>\n",
       "    </tr>\n",
       "    <tr>\n",
       "      <th>4</th>\n",
       "      <td>African Wild Dog</td>\n",
       "      <td>0.19</td>\n",
       "      <td>21.703</td>\n",
       "      <td>1</td>\n",
       "      <td>1</td>\n",
       "      <td>0</td>\n",
       "      <td>0</td>\n",
       "      <td>0</td>\n",
       "      <td>0</td>\n",
       "      <td>0</td>\n",
       "    </tr>\n",
       "  </tbody>\n",
       "</table>\n",
       "</div>"
      ],
      "text/plain": [
       "             Animal  temp_change  avg_temp_recent  At_Risk  Africa  Asia  \\\n",
       "0          Aardvark         0.19           21.703        0       1     0   \n",
       "1          Aardwolf         0.19           21.703        0       1     0   \n",
       "2  African Elephant         0.19           21.703        1       1     0   \n",
       "3      African Lion         0.19           21.703        1       1     0   \n",
       "4  African Wild Dog         0.19           21.703        1       1     0   \n",
       "\n",
       "   Americas  Europe  Oceania  Arctic  \n",
       "0         0       0        0       0  \n",
       "1         0       0        0       0  \n",
       "2         0       0        0       0  \n",
       "3         0       0        0       0  \n",
       "4         0       0        0       0  "
      ]
     },
     "execution_count": 460,
     "metadata": {},
     "output_type": "execute_result"
    }
   ],
   "source": [
    "df_climate.head()"
   ]
  },
  {
   "cell_type": "markdown",
   "id": "85d0ded0",
   "metadata": {},
   "source": [
    "---"
   ]
  },
  {
   "cell_type": "markdown",
   "id": "70cd1231",
   "metadata": {},
   "source": [
    "#### **Training a model with only climate dataset**"
   ]
  },
  {
   "cell_type": "code",
   "execution_count": 462,
   "id": "9aa681d1",
   "metadata": {},
   "outputs": [],
   "source": [
    "# Make sure X contains only numeric + no NaNs\n",
    "X = df_climate.drop(columns=['Animal', 'At_Risk'])\n",
    "\n",
    "# Force all values to numeric (again, just in case)\n",
    "X = X.apply(pd.to_numeric, errors='coerce')\n",
    "\n",
    "# Fill any NaNs with column means\n",
    "X = X.fillna(X.mean())\n",
    "\n",
    "# Target\n",
    "y = df_climate['At_Risk']\n"
   ]
  },
  {
   "cell_type": "code",
   "execution_count": 463,
   "id": "59c11e9b",
   "metadata": {},
   "outputs": [],
   "source": [
    "X_train, X_test, y_train, y_test = train_test_split(X, y, stratify=y, test_size=0.3, random_state=42)"
   ]
  },
  {
   "cell_type": "code",
   "execution_count": 464,
   "id": "b1beb387",
   "metadata": {},
   "outputs": [],
   "source": [
    "scaler = StandardScaler()\n",
    "X_train_scaled = scaler.fit_transform(X_train)\n",
    "X_test_scaled = scaler.transform(X_test)"
   ]
  },
  {
   "cell_type": "code",
   "execution_count": 465,
   "id": "ed3f7bff",
   "metadata": {},
   "outputs": [
    {
     "name": "stdout",
     "output_type": "stream",
     "text": [
      "Logistic Regression\n",
      "[[24 10]\n",
      " [15 10]]\n",
      "              precision    recall  f1-score   support\n",
      "\n",
      "           0       0.62      0.71      0.66        34\n",
      "           1       0.50      0.40      0.44        25\n",
      "\n",
      "    accuracy                           0.58        59\n",
      "   macro avg       0.56      0.55      0.55        59\n",
      "weighted avg       0.57      0.58      0.57        59\n",
      "\n"
     ]
    }
   ],
   "source": [
    "lr_model = LogisticRegression(max_iter=1000, class_weight='balanced')\n",
    "lr_model.fit(X_train_scaled, y_train)\n",
    "\n",
    "y_pred = lr_model.predict(X_test_scaled)\n",
    "\n",
    "print(\"Logistic Regression\")\n",
    "print(confusion_matrix(y_test, y_pred))\n",
    "print(classification_report(y_test, y_pred))"
   ]
  },
  {
   "cell_type": "markdown",
   "id": "8ecef487",
   "metadata": {},
   "source": [
    "- Logistic Regression shows moderate performance when trained only on climate data.\n",
    "\n",
    "- It achieves 58% accuracy, with a macro F1-score of 0.55 – indicating weak balance across classes.\n",
    "\n",
    "- The model performs better on predicting not-at-risk species (recall = 0.71), but struggles to identify at-risk species (recall = 0.40).\n",
    "\n",
    "- These results suggest that climate data alone lacks sufficient predictive power to reliably detect endangered species.\n",
    "\n",
    "- This reinforces the need to combine climate with biological features for better classification."
   ]
  },
  {
   "cell_type": "code",
   "execution_count": 467,
   "id": "2feb0bd9",
   "metadata": {},
   "outputs": [
    {
     "name": "stdout",
     "output_type": "stream",
     "text": [
      "Support Vector Machine\n",
      "[[24 10]\n",
      " [15 10]]\n",
      "              precision    recall  f1-score   support\n",
      "\n",
      "           0       0.62      0.71      0.66        34\n",
      "           1       0.50      0.40      0.44        25\n",
      "\n",
      "    accuracy                           0.58        59\n",
      "   macro avg       0.56      0.55      0.55        59\n",
      "weighted avg       0.57      0.58      0.57        59\n",
      "\n"
     ]
    }
   ],
   "source": [
    "svm_model = SVC(class_weight='balanced')\n",
    "svm_model.fit(X_train_scaled, y_train)\n",
    "\n",
    "y_pred = svm_model.predict(X_test_scaled)\n",
    "\n",
    "print(\"Support Vector Machine\")\n",
    "print(confusion_matrix(y_test, y_pred))\n",
    "print(classification_report(y_test, y_pred))"
   ]
  },
  {
   "cell_type": "markdown",
   "id": "651c6ce6",
   "metadata": {},
   "source": [
    "- Support Vector Machine performs nearly identical to Logistic Regression on climate data.\n",
    "\n",
    "- It reaches 58% accuracy, with a macro F1-score of 0.55, showing a similar imbalance between classes.\n",
    "\n",
    "- The model predicts not-at-risk species relatively well (recall = 0.71), but continues to struggle with at-risk species (recall = 0.40).\n",
    "\n",
    "- These results confirm that climate features alone are not enough to separate the two classes effectively.\n",
    "\n",
    "- SVM doesn’t gain a performance edge here, highlighting the limitations of univariate environmental data."
   ]
  },
  {
   "cell_type": "code",
   "execution_count": 470,
   "id": "005d2d6c",
   "metadata": {},
   "outputs": [
    {
     "name": "stdout",
     "output_type": "stream",
     "text": [
      "Gradient Boosting\n",
      "[[28  6]\n",
      " [21  4]]\n",
      "              precision    recall  f1-score   support\n",
      "\n",
      "           0       0.57      0.82      0.67        34\n",
      "           1       0.40      0.16      0.23        25\n",
      "\n",
      "    accuracy                           0.54        59\n",
      "   macro avg       0.49      0.49      0.45        59\n",
      "weighted avg       0.50      0.54      0.49        59\n",
      "\n"
     ]
    }
   ],
   "source": [
    "\n",
    "gb_model = GradientBoostingClassifier()\n",
    "gb_model.fit(X_train, y_train)  # NOTE: No scaling needed here\n",
    "\n",
    "y_pred = gb_model.predict(X_test)\n",
    "\n",
    "print(\"Gradient Boosting\")\n",
    "print(confusion_matrix(y_test, y_pred))\n",
    "print(classification_report(y_test, y_pred))"
   ]
  },
  {
   "cell_type": "markdown",
   "id": "051708e0",
   "metadata": {},
   "source": [
    "- Gradient Boosting underperforms significantly when trained only on climate features.\n",
    "\n",
    "- Accuracy drops to 54%, and F1-score for at-risk species is just 0.23.\n",
    "\n",
    "- The model leans heavily towards predicting non-risk species, with very low recall (0.16) for true positives.\n",
    "\n",
    "- Suggests the model struggles to find strong climate-based signals that distinguish vulnerable species."
   ]
  },
  {
   "cell_type": "markdown",
   "id": "a8f58caa",
   "metadata": {},
   "source": [
    "#### **Conclusion**\n",
    "##### The Gradient Boosting model, when trained solely on climate-related features, performed poorly. It achieved an overall accuracy of 54%, but its ability to identify species at risk was significantly limited, with a recall of only 16% and an F1-score of just 0.23 for the at-risk class. This suggests the model struggled to find consistent climate-based signals that distinguish vulnerable species from those that are not.\n",
    "\n",
    "##### In general, models trained only on climate data showed limited predictive power. While some patterns of temperature change were detectable, climate features alone did not provide the nuance needed to separate at-risk species effectively. Most models leaned toward predicting species as “not at risk,” resulting in high false negatives. This underperformance emphasizes that climate change is only part of the extinction equation—biological traits and species-specific context are essential components for building reliable prediction models."
   ]
  },
  {
   "cell_type": "markdown",
   "id": "93f5684d",
   "metadata": {},
   "source": [
    "---"
   ]
  },
  {
   "cell_type": "markdown",
   "id": "9f324289",
   "metadata": {},
   "source": [
    "#### **Prepping data to train a model with combined data**"
   ]
  },
  {
   "cell_type": "code",
   "execution_count": 476,
   "id": "87583a73",
   "metadata": {},
   "outputs": [],
   "source": [
    "df_final = df_merged.copy()"
   ]
  },
  {
   "cell_type": "code",
   "execution_count": 480,
   "id": "70157790",
   "metadata": {},
   "outputs": [],
   "source": [
    "columns_to_drop = [\n",
    "    \"Animal\",                \n",
    "    \"Conservation Status\",   \n",
    "    \"Habitat\",               \n",
    "    \"Diet\",                  \n",
    "    \"Social Structure\",                            \n",
    "    \"Region\",                \n",
    "]\n",
    "\n",
    "df_final = df_merged.drop(columns=columns_to_drop)"
   ]
  },
  {
   "cell_type": "code",
   "execution_count": null,
   "id": "1c68abc0",
   "metadata": {},
   "outputs": [
    {
     "data": {
      "text/html": [
       "<div>\n",
       "<style scoped>\n",
       "    .dataframe tbody tr th:only-of-type {\n",
       "        vertical-align: middle;\n",
       "    }\n",
       "\n",
       "    .dataframe tbody tr th {\n",
       "        vertical-align: top;\n",
       "    }\n",
       "\n",
       "    .dataframe thead th {\n",
       "        text-align: right;\n",
       "    }\n",
       "</style>\n",
       "<table border=\"1\" class=\"dataframe\">\n",
       "  <thead>\n",
       "    <tr style=\"text-align: right;\">\n",
       "      <th></th>\n",
       "      <th>Height (cm)</th>\n",
       "      <th>Weight (kg)</th>\n",
       "      <th>Lifespan (years)</th>\n",
       "      <th>Average Speed (km/h)</th>\n",
       "      <th>Gestation Period (days)</th>\n",
       "      <th>Offspring per Birth</th>\n",
       "      <th>At_Risk</th>\n",
       "      <th>Habitat Category</th>\n",
       "      <th>Social Encoded</th>\n",
       "      <th>Africa</th>\n",
       "      <th>Asia</th>\n",
       "      <th>Europe</th>\n",
       "      <th>Americas</th>\n",
       "      <th>Oceania</th>\n",
       "      <th>Arctic</th>\n",
       "      <th>temp_change</th>\n",
       "      <th>avg_temp_recent</th>\n",
       "    </tr>\n",
       "  </thead>\n",
       "  <tbody>\n",
       "    <tr>\n",
       "      <th>0</th>\n",
       "      <td>117.5</td>\n",
       "      <td>52.5</td>\n",
       "      <td>25.0</td>\n",
       "      <td>40.0</td>\n",
       "      <td>225.0</td>\n",
       "      <td>1.0</td>\n",
       "      <td>False</td>\n",
       "      <td>Grasslands</td>\n",
       "      <td>8</td>\n",
       "      <td>1</td>\n",
       "      <td>0</td>\n",
       "      <td>0</td>\n",
       "      <td>0</td>\n",
       "      <td>0</td>\n",
       "      <td>0</td>\n",
       "      <td>0.19</td>\n",
       "      <td>21.703</td>\n",
       "    </tr>\n",
       "    <tr>\n",
       "      <th>1</th>\n",
       "      <td>45.0</td>\n",
       "      <td>11.0</td>\n",
       "      <td>11.0</td>\n",
       "      <td>27.0</td>\n",
       "      <td>90.0</td>\n",
       "      <td>3.5</td>\n",
       "      <td>False</td>\n",
       "      <td>Grasslands</td>\n",
       "      <td>8</td>\n",
       "      <td>1</td>\n",
       "      <td>0</td>\n",
       "      <td>0</td>\n",
       "      <td>0</td>\n",
       "      <td>0</td>\n",
       "      <td>0</td>\n",
       "      <td>0.19</td>\n",
       "      <td>21.703</td>\n",
       "    </tr>\n",
       "    <tr>\n",
       "      <th>2</th>\n",
       "      <td>290.0</td>\n",
       "      <td>4350.0</td>\n",
       "      <td>65.0</td>\n",
       "      <td>25.0</td>\n",
       "      <td>650.0</td>\n",
       "      <td>1.0</td>\n",
       "      <td>True</td>\n",
       "      <td>Grasslands</td>\n",
       "      <td>4</td>\n",
       "      <td>1</td>\n",
       "      <td>0</td>\n",
       "      <td>0</td>\n",
       "      <td>0</td>\n",
       "      <td>0</td>\n",
       "      <td>0</td>\n",
       "      <td>0.19</td>\n",
       "      <td>21.703</td>\n",
       "    </tr>\n",
       "    <tr>\n",
       "      <th>3</th>\n",
       "      <td>95.0</td>\n",
       "      <td>185.0</td>\n",
       "      <td>12.0</td>\n",
       "      <td>58.0</td>\n",
       "      <td>101.5</td>\n",
       "      <td>3.0</td>\n",
       "      <td>True</td>\n",
       "      <td>Grasslands</td>\n",
       "      <td>3</td>\n",
       "      <td>1</td>\n",
       "      <td>0</td>\n",
       "      <td>0</td>\n",
       "      <td>0</td>\n",
       "      <td>0</td>\n",
       "      <td>0</td>\n",
       "      <td>0.19</td>\n",
       "      <td>21.703</td>\n",
       "    </tr>\n",
       "    <tr>\n",
       "      <th>4</th>\n",
       "      <td>77.5</td>\n",
       "      <td>27.0</td>\n",
       "      <td>11.0</td>\n",
       "      <td>56.0</td>\n",
       "      <td>70.0</td>\n",
       "      <td>11.0</td>\n",
       "      <td>True</td>\n",
       "      <td>Grasslands</td>\n",
       "      <td>3</td>\n",
       "      <td>1</td>\n",
       "      <td>0</td>\n",
       "      <td>0</td>\n",
       "      <td>0</td>\n",
       "      <td>0</td>\n",
       "      <td>0</td>\n",
       "      <td>0.19</td>\n",
       "      <td>21.703</td>\n",
       "    </tr>\n",
       "  </tbody>\n",
       "</table>\n",
       "</div>"
      ],
      "text/plain": [
       "   Height (cm)  Weight (kg)  Lifespan (years)  Average Speed (km/h)  \\\n",
       "0        117.5         52.5              25.0                  40.0   \n",
       "1         45.0         11.0              11.0                  27.0   \n",
       "2        290.0       4350.0              65.0                  25.0   \n",
       "3         95.0        185.0              12.0                  58.0   \n",
       "4         77.5         27.0              11.0                  56.0   \n",
       "\n",
       "   Gestation Period (days)  Offspring per Birth  At_Risk Habitat Category  \\\n",
       "0                    225.0                  1.0    False       Grasslands   \n",
       "1                     90.0                  3.5    False       Grasslands   \n",
       "2                    650.0                  1.0     True       Grasslands   \n",
       "3                    101.5                  3.0     True       Grasslands   \n",
       "4                     70.0                 11.0     True       Grasslands   \n",
       "\n",
       "   Social Encoded  Africa  Asia  Europe  Americas  Oceania  Arctic  \\\n",
       "0               8       1     0       0         0        0       0   \n",
       "1               8       1     0       0         0        0       0   \n",
       "2               4       1     0       0         0        0       0   \n",
       "3               3       1     0       0         0        0       0   \n",
       "4               3       1     0       0         0        0       0   \n",
       "\n",
       "   temp_change  avg_temp_recent  \n",
       "0         0.19           21.703  \n",
       "1         0.19           21.703  \n",
       "2         0.19           21.703  \n",
       "3         0.19           21.703  \n",
       "4         0.19           21.703  "
      ]
     },
     "execution_count": 481,
     "metadata": {},
     "output_type": "execute_result"
    }
   ],
   "source": [
    "# Checking to see what needs to be one - hot encoded\n",
    "df_final.head()"
   ]
  },
  {
   "cell_type": "code",
   "execution_count": null,
   "id": "0af484b1",
   "metadata": {},
   "outputs": [],
   "source": [
    "# Making one-hot encoding for \"Habitat Category\"\n",
    "df_final = pd.get_dummies(\n",
    "    df_final,\n",
    "    columns=[\"Habitat Category\"],\n",
    "    drop_first=True\n",
    ")"
   ]
  },
  {
   "cell_type": "code",
   "execution_count": null,
   "id": "6189d26e",
   "metadata": {},
   "outputs": [
    {
     "data": {
      "text/html": [
       "<div>\n",
       "<style scoped>\n",
       "    .dataframe tbody tr th:only-of-type {\n",
       "        vertical-align: middle;\n",
       "    }\n",
       "\n",
       "    .dataframe tbody tr th {\n",
       "        vertical-align: top;\n",
       "    }\n",
       "\n",
       "    .dataframe thead th {\n",
       "        text-align: right;\n",
       "    }\n",
       "</style>\n",
       "<table border=\"1\" class=\"dataframe\">\n",
       "  <thead>\n",
       "    <tr style=\"text-align: right;\">\n",
       "      <th></th>\n",
       "      <th>Height (cm)</th>\n",
       "      <th>Weight (kg)</th>\n",
       "      <th>Lifespan (years)</th>\n",
       "      <th>Average Speed (km/h)</th>\n",
       "      <th>Gestation Period (days)</th>\n",
       "      <th>Offspring per Birth</th>\n",
       "      <th>At_Risk</th>\n",
       "      <th>Social Encoded</th>\n",
       "      <th>Africa</th>\n",
       "      <th>Asia</th>\n",
       "      <th>...</th>\n",
       "      <th>temp_change</th>\n",
       "      <th>avg_temp_recent</th>\n",
       "      <th>Habitat Category_Forests</th>\n",
       "      <th>Habitat Category_Freshwater</th>\n",
       "      <th>Habitat Category_Grasslands</th>\n",
       "      <th>Habitat Category_Mountains</th>\n",
       "      <th>Habitat Category_Oceans</th>\n",
       "      <th>Habitat Category_Other</th>\n",
       "      <th>Habitat Category_Tundra</th>\n",
       "      <th>Habitat Category_Wetlands</th>\n",
       "    </tr>\n",
       "  </thead>\n",
       "  <tbody>\n",
       "    <tr>\n",
       "      <th>0</th>\n",
       "      <td>117.5</td>\n",
       "      <td>52.5</td>\n",
       "      <td>25.0</td>\n",
       "      <td>40.0</td>\n",
       "      <td>225.0</td>\n",
       "      <td>1.0</td>\n",
       "      <td>False</td>\n",
       "      <td>8</td>\n",
       "      <td>1</td>\n",
       "      <td>0</td>\n",
       "      <td>...</td>\n",
       "      <td>0.19</td>\n",
       "      <td>21.703</td>\n",
       "      <td>False</td>\n",
       "      <td>False</td>\n",
       "      <td>True</td>\n",
       "      <td>False</td>\n",
       "      <td>False</td>\n",
       "      <td>False</td>\n",
       "      <td>False</td>\n",
       "      <td>False</td>\n",
       "    </tr>\n",
       "    <tr>\n",
       "      <th>1</th>\n",
       "      <td>45.0</td>\n",
       "      <td>11.0</td>\n",
       "      <td>11.0</td>\n",
       "      <td>27.0</td>\n",
       "      <td>90.0</td>\n",
       "      <td>3.5</td>\n",
       "      <td>False</td>\n",
       "      <td>8</td>\n",
       "      <td>1</td>\n",
       "      <td>0</td>\n",
       "      <td>...</td>\n",
       "      <td>0.19</td>\n",
       "      <td>21.703</td>\n",
       "      <td>False</td>\n",
       "      <td>False</td>\n",
       "      <td>True</td>\n",
       "      <td>False</td>\n",
       "      <td>False</td>\n",
       "      <td>False</td>\n",
       "      <td>False</td>\n",
       "      <td>False</td>\n",
       "    </tr>\n",
       "    <tr>\n",
       "      <th>2</th>\n",
       "      <td>290.0</td>\n",
       "      <td>4350.0</td>\n",
       "      <td>65.0</td>\n",
       "      <td>25.0</td>\n",
       "      <td>650.0</td>\n",
       "      <td>1.0</td>\n",
       "      <td>True</td>\n",
       "      <td>4</td>\n",
       "      <td>1</td>\n",
       "      <td>0</td>\n",
       "      <td>...</td>\n",
       "      <td>0.19</td>\n",
       "      <td>21.703</td>\n",
       "      <td>False</td>\n",
       "      <td>False</td>\n",
       "      <td>True</td>\n",
       "      <td>False</td>\n",
       "      <td>False</td>\n",
       "      <td>False</td>\n",
       "      <td>False</td>\n",
       "      <td>False</td>\n",
       "    </tr>\n",
       "    <tr>\n",
       "      <th>3</th>\n",
       "      <td>95.0</td>\n",
       "      <td>185.0</td>\n",
       "      <td>12.0</td>\n",
       "      <td>58.0</td>\n",
       "      <td>101.5</td>\n",
       "      <td>3.0</td>\n",
       "      <td>True</td>\n",
       "      <td>3</td>\n",
       "      <td>1</td>\n",
       "      <td>0</td>\n",
       "      <td>...</td>\n",
       "      <td>0.19</td>\n",
       "      <td>21.703</td>\n",
       "      <td>False</td>\n",
       "      <td>False</td>\n",
       "      <td>True</td>\n",
       "      <td>False</td>\n",
       "      <td>False</td>\n",
       "      <td>False</td>\n",
       "      <td>False</td>\n",
       "      <td>False</td>\n",
       "    </tr>\n",
       "    <tr>\n",
       "      <th>4</th>\n",
       "      <td>77.5</td>\n",
       "      <td>27.0</td>\n",
       "      <td>11.0</td>\n",
       "      <td>56.0</td>\n",
       "      <td>70.0</td>\n",
       "      <td>11.0</td>\n",
       "      <td>True</td>\n",
       "      <td>3</td>\n",
       "      <td>1</td>\n",
       "      <td>0</td>\n",
       "      <td>...</td>\n",
       "      <td>0.19</td>\n",
       "      <td>21.703</td>\n",
       "      <td>False</td>\n",
       "      <td>False</td>\n",
       "      <td>True</td>\n",
       "      <td>False</td>\n",
       "      <td>False</td>\n",
       "      <td>False</td>\n",
       "      <td>False</td>\n",
       "      <td>False</td>\n",
       "    </tr>\n",
       "  </tbody>\n",
       "</table>\n",
       "<p>5 rows × 24 columns</p>\n",
       "</div>"
      ],
      "text/plain": [
       "   Height (cm)  Weight (kg)  Lifespan (years)  Average Speed (km/h)  \\\n",
       "0        117.5         52.5              25.0                  40.0   \n",
       "1         45.0         11.0              11.0                  27.0   \n",
       "2        290.0       4350.0              65.0                  25.0   \n",
       "3         95.0        185.0              12.0                  58.0   \n",
       "4         77.5         27.0              11.0                  56.0   \n",
       "\n",
       "   Gestation Period (days)  Offspring per Birth  At_Risk  Social Encoded  \\\n",
       "0                    225.0                  1.0    False               8   \n",
       "1                     90.0                  3.5    False               8   \n",
       "2                    650.0                  1.0     True               4   \n",
       "3                    101.5                  3.0     True               3   \n",
       "4                     70.0                 11.0     True               3   \n",
       "\n",
       "   Africa  Asia  ...  temp_change  avg_temp_recent  Habitat Category_Forests  \\\n",
       "0       1     0  ...         0.19           21.703                     False   \n",
       "1       1     0  ...         0.19           21.703                     False   \n",
       "2       1     0  ...         0.19           21.703                     False   \n",
       "3       1     0  ...         0.19           21.703                     False   \n",
       "4       1     0  ...         0.19           21.703                     False   \n",
       "\n",
       "   Habitat Category_Freshwater  Habitat Category_Grasslands  \\\n",
       "0                        False                         True   \n",
       "1                        False                         True   \n",
       "2                        False                         True   \n",
       "3                        False                         True   \n",
       "4                        False                         True   \n",
       "\n",
       "   Habitat Category_Mountains  Habitat Category_Oceans  \\\n",
       "0                       False                    False   \n",
       "1                       False                    False   \n",
       "2                       False                    False   \n",
       "3                       False                    False   \n",
       "4                       False                    False   \n",
       "\n",
       "   Habitat Category_Other  Habitat Category_Tundra  Habitat Category_Wetlands  \n",
       "0                   False                    False                      False  \n",
       "1                   False                    False                      False  \n",
       "2                   False                    False                      False  \n",
       "3                   False                    False                      False  \n",
       "4                   False                    False                      False  \n",
       "\n",
       "[5 rows x 24 columns]"
      ]
     },
     "execution_count": 487,
     "metadata": {},
     "output_type": "execute_result"
    }
   ],
   "source": [
    "# Double checking values\n",
    "df_final.head()"
   ]
  },
  {
   "cell_type": "code",
   "execution_count": 490,
   "id": "3cf2ddd1",
   "metadata": {},
   "outputs": [],
   "source": [
    "# Convert all bool columns to int\n",
    "for col in df_final.select_dtypes(include='bool').columns:\n",
    "    df_final[col] = df_final[col].astype(int)"
   ]
  },
  {
   "cell_type": "code",
   "execution_count": 491,
   "id": "89761861",
   "metadata": {},
   "outputs": [
    {
     "name": "stdout",
     "output_type": "stream",
     "text": [
      "[dtype('float64') dtype('int32') dtype('int64')]\n"
     ]
    }
   ],
   "source": [
    "# Making sure there are no longer strings or bool\n",
    "print(df_final.dtypes.unique())"
   ]
  },
  {
   "cell_type": "code",
   "execution_count": null,
   "id": "30923cf0",
   "metadata": {},
   "outputs": [],
   "source": [
    "# Handle any stragglers\n",
    "X = X.apply(pd.to_numeric, errors='coerce')\n",
    "X = X.fillna(X.mean())"
   ]
  },
  {
   "cell_type": "code",
   "execution_count": 569,
   "id": "e0a948b6",
   "metadata": {},
   "outputs": [],
   "source": [
    "# Split and scale\n",
    "X_train, X_test, y_train, y_test = train_test_split(X, y, stratify=y, test_size=0.3, random_state=42)\n",
    "scaler = StandardScaler()\n",
    "X_train_scaled = scaler.fit_transform(X_train)\n",
    "X_test_scaled = scaler.transform(X_test)"
   ]
  },
  {
   "cell_type": "code",
   "execution_count": 493,
   "id": "b22d85df",
   "metadata": {},
   "outputs": [],
   "source": [
    "X = df_final.drop(columns=['At_Risk'])\n",
    "y = df_final['At_Risk']"
   ]
  },
  {
   "cell_type": "markdown",
   "id": "24e1aef8",
   "metadata": {},
   "source": [
    "---"
   ]
  },
  {
   "cell_type": "markdown",
   "id": "b86e0e1d",
   "metadata": {},
   "source": [
    "#### **Training model with combined data**"
   ]
  },
  {
   "cell_type": "code",
   "execution_count": 494,
   "id": "f2baa0b9",
   "metadata": {},
   "outputs": [
    {
     "name": "stdout",
     "output_type": "stream",
     "text": [
      "LOGISTIC REGRESSION\n",
      "[[24 10]\n",
      " [15 10]]\n",
      "              precision    recall  f1-score   support\n",
      "\n",
      "           0       0.62      0.71      0.66        34\n",
      "           1       0.50      0.40      0.44        25\n",
      "\n",
      "    accuracy                           0.58        59\n",
      "   macro avg       0.56      0.55      0.55        59\n",
      "weighted avg       0.57      0.58      0.57        59\n",
      "\n"
     ]
    }
   ],
   "source": [
    "\n",
    "lr_model = LogisticRegression(max_iter=1000, class_weight='balanced')\n",
    "lr_model.fit(X_train_scaled, y_train)\n",
    "y_pred = lr_model.predict(X_test_scaled)\n",
    "\n",
    "print(\"LOGISTIC REGRESSION\")\n",
    "print(confusion_matrix(y_test, y_pred))\n",
    "print(classification_report(y_test, y_pred))"
   ]
  },
  {
   "cell_type": "markdown",
   "id": "d18248bd",
   "metadata": {},
   "source": [
    "- The model shows modest overall performance with 58% accuracy, indicating that combining animal traits and climate data did not improve predictive power significantly.\n",
    "\n",
    "- Precision for at-risk species (class 1) is 0.50, meaning half of the predicted at-risk cases were actually correct.\n",
    "\n",
    "- However, recall for at-risk species is only 0.40, so the model misses 60% of truly endangered species.\n",
    "\n",
    "- The F1-score for at-risk is 0.44, highlighting a weak balance between precision and recall.\n",
    "\n",
    "- In short, while the model is slightly better at identifying non-risk species, it still struggles to identify endangered ones correctly despite having both datasets combined."
   ]
  },
  {
   "cell_type": "code",
   "execution_count": 495,
   "id": "e69a21aa",
   "metadata": {},
   "outputs": [
    {
     "name": "stdout",
     "output_type": "stream",
     "text": [
      "GRADIENT BOOST\n",
      "[[28  6]\n",
      " [21  4]]\n",
      "              precision    recall  f1-score   support\n",
      "\n",
      "           0       0.57      0.82      0.67        34\n",
      "           1       0.40      0.16      0.23        25\n",
      "\n",
      "    accuracy                           0.54        59\n",
      "   macro avg       0.49      0.49      0.45        59\n",
      "weighted avg       0.50      0.54      0.49        59\n",
      "\n"
     ]
    }
   ],
   "source": [
    "gb_model = GradientBoostingClassifier()\n",
    "gb_model.fit(X_train, y_train)  # No scaling needed\n",
    "\n",
    "y_pred = gb_model.predict(X_test)\n",
    "print(\"GRADIENT BOOST\")\n",
    "print(confusion_matrix(y_test, y_pred))\n",
    "print(classification_report(y_test, y_pred))"
   ]
  },
  {
   "cell_type": "markdown",
   "id": "7dfe2387",
   "metadata": {},
   "source": [
    "- The model performs poorly overall, with an accuracy of just 54%, indicating weak predictive performance despite access to both climate and biological data.\n",
    "\n",
    "- It is heavily biased toward predicting non-risk species: 28 out of 34 non-risk cases were correctly classified, but it only identified 4 out of 25 at-risk species (recall = 0.16).\n",
    "\n",
    "- Precision for at-risk is also low (0.40), and the F1-score drops to just 0.23, confirming that predictions for endangered animals are highly unreliable.\n",
    "\n",
    "- This model may be overfitting the dominant class or failing to leverage the combined features meaningfully for minority class detection."
   ]
  },
  {
   "cell_type": "code",
   "execution_count": 496,
   "id": "96377cf9",
   "metadata": {},
   "outputs": [
    {
     "name": "stdout",
     "output_type": "stream",
     "text": [
      "SUPPORT VECTOR MACHINE\n",
      "[[28  6]\n",
      " [21  4]]\n",
      "              precision    recall  f1-score   support\n",
      "\n",
      "           0       0.57      0.82      0.67        34\n",
      "           1       0.40      0.16      0.23        25\n",
      "\n",
      "    accuracy                           0.54        59\n",
      "   macro avg       0.49      0.49      0.45        59\n",
      "weighted avg       0.50      0.54      0.49        59\n",
      "\n"
     ]
    }
   ],
   "source": [
    "svm_model = SVC(probability=True)\n",
    "svm_model.fit(X_train_scaled, y_train)\n",
    "y_pred = svm_model.predict(X_test_scaled)\n",
    "\n",
    "print(\"SUPPORT VECTOR MACHINE\")\n",
    "print(confusion_matrix(y_test, y_pred))\n",
    "print(classification_report(y_test, y_pred))"
   ]
  },
  {
   "cell_type": "markdown",
   "id": "c9496772",
   "metadata": {},
   "source": [
    "- The SVM model yields a low overall accuracy of 54%, mirroring the performance of Gradient Boosting.\n",
    "\n",
    "- It shows strong bias toward the non-risk class, correctly predicting 28 out of 34, but only 4 out of 25 at-risk species (recall = 0.16).\n",
    "\n",
    "- The precision for at-risk predictions is also low (0.40), and the F1-score for that class drops to 0.23, signaling weak effectiveness in identifying endangered species.\n",
    "\n",
    "- Despite combining biological and climate data, the model fails to meaningfully improve prediction for the minority class, suggesting that the features may not be complementing each other well in this configuration.\n",
    "\n"
   ]
  },
  {
   "cell_type": "code",
   "execution_count": 497,
   "id": "55722d1b",
   "metadata": {},
   "outputs": [
    {
     "name": "stdout",
     "output_type": "stream",
     "text": [
      "RANDOM FOREST\n",
      "[[28  6]\n",
      " [21  4]]\n",
      "              precision    recall  f1-score   support\n",
      "\n",
      "           0       0.57      0.82      0.67        34\n",
      "           1       0.40      0.16      0.23        25\n",
      "\n",
      "    accuracy                           0.54        59\n",
      "   macro avg       0.49      0.49      0.45        59\n",
      "weighted avg       0.50      0.54      0.49        59\n",
      "\n"
     ]
    }
   ],
   "source": [
    "rf_model = RandomForestClassifier()\n",
    "rf_model.fit(X_train, y_train)\n",
    "y_pred = rf_model.predict(X_test)\n",
    "\n",
    "print(\"RANDOM FOREST\")\n",
    "print(confusion_matrix(y_test, y_pred))\n",
    "print(classification_report(y_test, y_pred))"
   ]
  },
  {
   "cell_type": "markdown",
   "id": "400b9050",
   "metadata": {},
   "source": [
    "- Despite using both biological and climate inputs, Random Forest shows no improvement over simpler models.\n",
    "\n",
    "- The model achieves only 54% accuracy, with the recall for at-risk species stuck at 0.16 — identical to SVM and Gradient Boosting.\n",
    "\n",
    "- Only 4 out of 25 endangered species were correctly classified.\n",
    "\n",
    "- Precision (0.40) and F1-score (0.23) for the at-risk class remain consistently low, highlighting that the model is mostly guessing “not at risk.”\n",
    "\n",
    "- The inclusion of more features does not seem to provide more predictive power, possibly due to noise or overlapping patterns that don’t separate risk classes clearly."
   ]
  },
  {
   "cell_type": "code",
   "execution_count": 505,
   "id": "43977f1c",
   "metadata": {},
   "outputs": [
    {
     "name": "stdout",
     "output_type": "stream",
     "text": [
      "K-NEAREST NEIGHBORS\n",
      "[[32  2]\n",
      " [25  0]]\n",
      "              precision    recall  f1-score   support\n",
      "\n",
      "           0       0.56      0.94      0.70        34\n",
      "           1       0.00      0.00      0.00        25\n",
      "\n",
      "    accuracy                           0.54        59\n",
      "   macro avg       0.28      0.47      0.35        59\n",
      "weighted avg       0.32      0.54      0.41        59\n",
      "\n"
     ]
    }
   ],
   "source": [
    "knn_model = KNeighborsClassifier(n_neighbors=5)\n",
    "knn_model.fit(X_train_scaled, y_train)\n",
    "y_pred = knn_model.predict(X_test_scaled)\n",
    "\n",
    "print(\"K-NEAREST NEIGHBORS\")\n",
    "print(confusion_matrix(y_test, y_pred))\n",
    "print(classification_report(y_test, y_pred))"
   ]
  },
  {
   "cell_type": "markdown",
   "id": "378da6fd",
   "metadata": {},
   "source": [
    "- This model completely failed to recognize any at-risk species — all 25 were misclassified as not at risk, giving a recall and F1-score of 0.00 for the positive class.\n",
    "\n",
    "- The accuracy is deceptively 54%, purely because the model over-predicts the majority class (not at risk).\n",
    "\n",
    "- Precision and recall for the minority class are nonexistent, making this model practically unusable for risk prediction.\n",
    "\n",
    "- KNN often struggles in high-dimensional spaces and is highly sensitive to class imbalance, which is clearly affecting its performance here.\n",
    "\n",
    "- In short, KNN treats all animals as if they’re safe — ignoring the problem we're trying to solve."
   ]
  },
  {
   "cell_type": "code",
   "execution_count": 506,
   "id": "ff7c5628",
   "metadata": {},
   "outputs": [
    {
     "name": "stdout",
     "output_type": "stream",
     "text": [
      "DECISION TREE\n",
      "[[28  6]\n",
      " [21  4]]\n",
      "              precision    recall  f1-score   support\n",
      "\n",
      "           0       0.57      0.82      0.67        34\n",
      "           1       0.40      0.16      0.23        25\n",
      "\n",
      "    accuracy                           0.54        59\n",
      "   macro avg       0.49      0.49      0.45        59\n",
      "weighted avg       0.50      0.54      0.49        59\n",
      "\n"
     ]
    }
   ],
   "source": [
    "tree_model = DecisionTreeClassifier()\n",
    "tree_model.fit(X_train, y_train)\n",
    "y_pred = tree_model.predict(X_test)\n",
    "\n",
    "print(\"DECISION TREE\")\n",
    "print(confusion_matrix(y_test, y_pred))\n",
    "print(classification_report(y_test, y_pred))"
   ]
  },
  {
   "cell_type": "markdown",
   "id": "7f8648e7",
   "metadata": {},
   "source": [
    "- Decision Tree achieves a moderate overall accuracy of 0.54.\n",
    "\n",
    "- Performs reasonably on not-at-risk species with precision 0.57 and recall 0.82.\n",
    "\n",
    "- Performance on at-risk species is poor, with precision 0.40, recall 0.16, and F1-score 0.23.\n",
    "\n",
    "- Indicates strong bias toward the majority class and struggles with minority detection.\n",
    "\n",
    "- Suggests the model may be too shallow or overly sensitive to class imbalance.\n",
    "\n",
    "- Offers interpretability but lacks robustness for high-stakes predictions like extinction risk."
   ]
  },
  {
   "cell_type": "code",
   "execution_count": 508,
   "id": "e74f3442",
   "metadata": {},
   "outputs": [
    {
     "data": {
      "image/png": "[encoded data removed]",
      "text/plain": [
       "<Figure size 1200x600 with 1 Axes>"
      ]
     },
     "metadata": {},
     "output_type": "display_data"
    }
   ],
   "source": [
    "# Model performance summary for combined dataset\n",
    "data = {\n",
    "    'Model': [\n",
    "        'Logistic Regression',\n",
    "        'Gradient Boosting',\n",
    "        'SVM',\n",
    "        'Random Forest',\n",
    "        'K-Nearest Neighbors',\n",
    "        'Decision Tree'\n",
    "    ],\n",
    "    'Accuracy': [0.58, 0.54, 0.54, 0.54, 0.54, 0.54],\n",
    "    'Recall (At-Risk)': [0.40, 0.16, 0.16, 0.16, 0.00, 0.16],\n",
    "    'Precision (At-Risk)': [0.50, 0.40, 0.40, 0.40, 0.00, 0.40],\n",
    "    'F1 Score (At-Risk)': [0.44, 0.23, 0.23, 0.23, 0.00, 0.23]\n",
    "}\n",
    "\n",
    "df = pd.DataFrame(data)\n",
    "\n",
    "# Plot\n",
    "fig, ax = plt.subplots(figsize=(12, 6))\n",
    "df.set_index('Model')[['Accuracy', 'Recall (At-Risk)', 'Precision (At-Risk)', 'F1 Score (At-Risk)']].plot(\n",
    "    kind='bar', ax=ax)\n",
    "plt.title('Model Performance on Combined Dataset')\n",
    "plt.ylabel('Score')\n",
    "plt.ylim(0, 1.1)\n",
    "plt.xticks(rotation=45)\n",
    "plt.legend(loc='lower right')\n",
    "plt.grid(axis='y', linestyle='--', alpha=0.7)\n",
    "plt.tight_layout()\n",
    "plt.show()\n"
   ]
  },
  {
   "cell_type": "markdown",
   "id": "e0bbce11",
   "metadata": {},
   "source": [
    "#### **Conclusion**\n",
    "##### After training and testing six different machine learning models on the combined dataset (which integrates both biological and climate data), the performance across all models was modest. Although overall accuracy hovered around 0.54–0.58, the ability to correctly identify at-risk species varied significantly. Most models showed a noticeable struggle with recall and precision for the minority class (at-risk), which is our key area of concern.\n",
    "\n",
    "##### The Logistic Regression model emerged as the current best performer. It delivered the highest F1-score (0.44) for the at-risk class and the best balance between precision and recall. However, its performance is still far from ideal and shows that further optimization is needed."
   ]
  },
  {
   "cell_type": "markdown",
   "id": "0c51ceaf",
   "metadata": {},
   "source": [
    "---"
   ]
  },
  {
   "cell_type": "markdown",
   "id": "3f64c4a6",
   "metadata": {},
   "source": [
    "#### **Improving Model Performance**\n",
    "##### We will move forward with Logistic Regression as our main model. Its relatively stable results make it the strongest candidate for improvement. Our main goal now is to boost recall and F1-score for identifying endangered species by tackling the class imbalance and refining model inputs and hyperparameters."
   ]
  },
  {
   "cell_type": "code",
   "execution_count": 628,
   "id": "cd2e60c1",
   "metadata": {},
   "outputs": [],
   "source": [
    "from xgboost import XGBClassifier\n",
    "from sklearn.model_selection import GridSearchCV\n",
    "from sklearn.feature_selection import SelectKBest, f_classif\n",
    "from imblearn.over_sampling import SMOTE\n",
    "from sklearn.metrics import confusion_matrix, ConfusionMatrixDisplay"
   ]
  },
  {
   "cell_type": "code",
   "execution_count": 567,
   "id": "6b975267",
   "metadata": {},
   "outputs": [
    {
     "name": "stdout",
     "output_type": "stream",
     "text": [
      "Best Parameters: {'C': 0.1, 'class_weight': 'balanced', 'max_iter': 1000, 'penalty': 'l2', 'solver': 'liblinear'}\n",
      "[[24 10]\n",
      " [15 10]]\n",
      "              precision    recall  f1-score   support\n",
      "\n",
      "           0       0.62      0.71      0.66        34\n",
      "           1       0.50      0.40      0.44        25\n",
      "\n",
      "    accuracy                           0.58        59\n",
      "   macro avg       0.56      0.55      0.55        59\n",
      "weighted avg       0.57      0.58      0.57        59\n",
      "\n"
     ]
    }
   ],
   "source": [
    "# We use GridSearchCV to tune the Logistic Regression model and improve performance on the 'at-risk' class.\n",
    "# The grid tests different regularization strengths (C), penalties (l1/l2), and ensures class imbalance is handled.\n",
    "# The goal is to find the best combination of settings that improves F1-score, especially for the minority class.\n",
    "\n",
    "\n",
    "param_grid = {\n",
    "    'C': [0.01, 0.1, 1, 10],\n",
    "    'penalty': ['l1', 'l2'],\n",
    "    'solver': ['liblinear'],\n",
    "    'class_weight': ['balanced'],\n",
    "    'max_iter': [1000]\n",
    "}\n",
    "\n",
    "log_reg = LogisticRegression()\n",
    "grid = GridSearchCV(log_reg, param_grid, scoring='f1', cv=5, n_jobs=-1)\n",
    "grid.fit(X_train_scaled, y_train)\n",
    "\n",
    "best_lr = grid.best_estimator_\n",
    "y_pred = best_lr.predict(X_test_scaled)\n",
    "\n",
    "print(\"Best Parameters:\", grid.best_params_)\n",
    "print(confusion_matrix(y_test, y_pred))\n",
    "print(classification_report(y_test, y_pred))"
   ]
  },
  {
   "cell_type": "code",
   "execution_count": 600,
   "id": "270b2cd7",
   "metadata": {},
   "outputs": [],
   "source": [
    "# Select top 10 best features after scaling\n",
    "selector = SelectKBest(f_classif, k=10)\n",
    "X_train_selected = selector.fit_transform(X_train_scaled, y_train)\n",
    "X_test_selected = selector.transform(X_test_scaled)"
   ]
  },
  {
   "cell_type": "markdown",
   "id": "18419657",
   "metadata": {},
   "source": [
    "- To improve model performance and reduce potential noise, I used SelectKBest with the ANOVA F-value (f_classif) to select the top 10 most statistically relevant features after scaling.\n",
    "- This technique helps narrow down input variables that have the strongest relationship with the target (At_Risk), and may improve generalization by removing irrelevant or redundant features.\n",
    "\n",
    "- However, in this case, I received a warning indicating that there are fewer than 10 features available, so all features were retained anyway.\n",
    "\n",
    "- Therefore, while the step was conceptually valid, it had no practical impact on the current model due to the limited number of features."
   ]
  },
  {
   "cell_type": "code",
   "execution_count": 601,
   "id": "ea79178c",
   "metadata": {},
   "outputs": [
    {
     "name": "stdout",
     "output_type": "stream",
     "text": [
      "LOGISTIC REGRESSION\n",
      "[[27  7]\n",
      " [11 14]]\n",
      "              precision    recall  f1-score   support\n",
      "\n",
      "           0       0.71      0.79      0.75        34\n",
      "           1       0.67      0.56      0.61        25\n",
      "\n",
      "    accuracy                           0.69        59\n",
      "   macro avg       0.69      0.68      0.68        59\n",
      "weighted avg       0.69      0.69      0.69        59\n",
      "\n"
     ]
    }
   ],
   "source": [
    "lr_model = LogisticRegression(max_iter=1000, class_weight='balanced')\n",
    "lr_model.fit(X_train_selected, y_train)\n",
    "y_pred = lr_model.predict(X_test_selected)\n",
    "\n",
    "print(\"LOGISTIC REGRESSION\")\n",
    "print(confusion_matrix(y_test, y_pred))\n",
    "print(classification_report(y_test, y_pred))"
   ]
  },
  {
   "cell_type": "markdown",
   "id": "c71e9a36",
   "metadata": {},
   "source": [
    "- Despite applying feature selection and hyperparameter tuning (including class balancing and penalty variation), the Logistic Regression model did not improve — the results remained identical to the baseline version.\n",
    "\n",
    "- This suggests that Logistic Regression may have reached its performance limit on this dataset, likely due to non-linear patterns that the model cannot capture well.\n",
    "- Now I will try adding SMOTE which generates synthetic examples of the minority class, helping the model learn what makes an animal \"at risk\""
   ]
  },
  {
   "cell_type": "code",
   "execution_count": 602,
   "id": "41456e47",
   "metadata": {},
   "outputs": [],
   "source": [
    "X = X.apply(pd.to_numeric, errors='coerce')\n",
    "X = X.fillna(X.mean())"
   ]
  },
  {
   "cell_type": "code",
   "execution_count": null,
   "id": "d4864e2d",
   "metadata": {},
   "outputs": [],
   "source": [
    "# Split\n",
    "X_train, X_test, y_train, y_test = train_test_split(X, y, stratify=y, test_size=0.3, random_state=42)"
   ]
  },
  {
   "cell_type": "code",
   "execution_count": 609,
   "id": "0a8e4768",
   "metadata": {},
   "outputs": [],
   "source": [
    "# Re-scaling again just to make it easier for me. \n",
    "scaler = StandardScaler()\n",
    "X_train_scaled = scaler.fit_transform(X_train)\n",
    "X_test_scaled = scaler.transform(X_test)"
   ]
  },
  {
   "cell_type": "code",
   "execution_count": 610,
   "id": "078c5080",
   "metadata": {},
   "outputs": [],
   "source": [
    "# Select Best Features\n",
    "selector = SelectKBest(score_func=f_classif, k=10)\n",
    "X_train_selected = selector.fit_transform(X_train_scaled, y_train)\n",
    "X_test_selected = selector.transform(X_test_scaled)"
   ]
  },
  {
   "cell_type": "code",
   "execution_count": 611,
   "id": "e8c27fa2",
   "metadata": {},
   "outputs": [],
   "source": [
    "smote = SMOTE(random_state=42, sampling_strategy=0.8)\n",
    "X_resampled, y_resampled = smote.fit_resample(X_train_selected, y_train)"
   ]
  },
  {
   "cell_type": "code",
   "execution_count": 612,
   "id": "2e2d5b5e",
   "metadata": {},
   "outputs": [
    {
     "name": "stdout",
     "output_type": "stream",
     "text": [
      "              precision    recall  f1-score   support\n",
      "\n",
      "           0       0.71      0.79      0.75        34\n",
      "           1       0.67      0.56      0.61        25\n",
      "\n",
      "    accuracy                           0.69        59\n",
      "   macro avg       0.69      0.68      0.68        59\n",
      "weighted avg       0.69      0.69      0.69        59\n",
      "\n"
     ]
    }
   ],
   "source": [
    "# Train the model with both Best features and SMOTE\n",
    "lr_model = LogisticRegression(max_iter=1000, class_weight='balanced')\n",
    "lr_model.fit(X_resampled, y_resampled)\n",
    "\n",
    "# 5. Predict\n",
    "y_pred = lr_model.predict(X_test_selected)\n",
    "print(classification_report(y_test, y_pred))\n"
   ]
  },
  {
   "cell_type": "markdown",
   "id": "bebc18bb",
   "metadata": {},
   "source": [
    "- After applying SMOTE (sampling_strategy=0.8) along with SelectKBest (top 10 features), the Logistic Regression model showed significant improvement across all metrics:\n",
    "\n",
    "- Precision (At-Risk) increased from earlier runs, now reaching 0.67\n",
    "\n",
    "- Recall (At-Risk) improved to 0.56, indicating better sensitivity to detecting endangered species\n",
    "\n",
    "- F1-score (At-Risk) is now 0.61, showing a much better balance between precision and recall\n",
    "\n",
    "- Overall accuracy has climbed to 0.69, compared to ~0.58–0.61 in previous versions\n",
    "\n",
    "- These results indicate that combining feature selection and SMOTE has a synergistic effect, helping the model generalize better while correcting class imbalance."
   ]
  },
  {
   "cell_type": "markdown",
   "id": "cc725d2f",
   "metadata": {},
   "source": [
    "##### After completing improvements to the Logistic Regression model (including balancing, scaling, and hyperparameter tuning), we observed moderate performance in predicting the at-risk class. To ensure no potentially better-performing model was overlooked, we tested XGBoost — a powerful ensemble algorithm known for handling complex patterns and class imbalance well. This step allowed us to validate whether a non-linear model could capture more subtle predictors and improve classification for endangered species."
   ]
  },
  {
   "cell_type": "code",
   "execution_count": 533,
   "id": "cacf9e7b",
   "metadata": {},
   "outputs": [
    {
     "data": {
      "text/html": [
       "<style>#sk-container-id-7 {\n",
       "  /* Definition of color scheme common for light and dark mode */\n",
       "  --sklearn-color-text: black;\n",
       "  --sklearn-color-line: gray;\n",
       "  /* Definition of color scheme for unfitted estimators */\n",
       "  --sklearn-color-unfitted-level-0: #fff5e6;\n",
       "  --sklearn-color-unfitted-level-1: #f6e4d2;\n",
       "  --sklearn-color-unfitted-level-2: #ffe0b3;\n",
       "  --sklearn-color-unfitted-level-3: chocolate;\n",
       "  /* Definition of color scheme for fitted estimators */\n",
       "  --sklearn-color-fitted-level-0: #f0f8ff;\n",
       "  --sklearn-color-fitted-level-1: #d4ebff;\n",
       "  --sklearn-color-fitted-level-2: #b3dbfd;\n",
       "  --sklearn-color-fitted-level-3: cornflowerblue;\n",
       "\n",
       "  /* Specific color for light theme */\n",
       "  --sklearn-color-text-on-default-background: var(--sg-text-color, var(--theme-code-foreground, var(--jp-content-font-color1, black)));\n",
       "  --sklearn-color-background: var(--sg-background-color, var(--theme-background, var(--jp-layout-color0, white)));\n",
       "  --sklearn-color-border-box: var(--sg-text-color, var(--theme-code-foreground, var(--jp-content-font-color1, black)));\n",
       "  --sklearn-color-icon: #696969;\n",
       "\n",
       "  @media (prefers-color-scheme: dark) {\n",
       "    /* Redefinition of color scheme for dark theme */\n",
       "    --sklearn-color-text-on-default-background: var(--sg-text-color, var(--theme-code-foreground, var(--jp-content-font-color1, white)));\n",
       "    --sklearn-color-background: var(--sg-background-color, var(--theme-background, var(--jp-layout-color0, #111)));\n",
       "    --sklearn-color-border-box: var(--sg-text-color, var(--theme-code-foreground, var(--jp-content-font-color1, white)));\n",
       "    --sklearn-color-icon: #878787;\n",
       "  }\n",
       "}\n",
       "\n",
       "#sk-container-id-7 {\n",
       "  color: var(--sklearn-color-text);\n",
       "}\n",
       "\n",
       "#sk-container-id-7 pre {\n",
       "  padding: 0;\n",
       "}\n",
       "\n",
       "#sk-container-id-7 input.sk-hidden--visually {\n",
       "  border: 0;\n",
       "  clip: rect(1px 1px 1px 1px);\n",
       "  clip: rect(1px, 1px, 1px, 1px);\n",
       "  height: 1px;\n",
       "  margin: -1px;\n",
       "  overflow: hidden;\n",
       "  padding: 0;\n",
       "  position: absolute;\n",
       "  width: 1px;\n",
       "}\n",
       "\n",
       "#sk-container-id-7 div.sk-dashed-wrapped {\n",
       "  border: 1px dashed var(--sklearn-color-line);\n",
       "  margin: 0 0.4em 0.5em 0.4em;\n",
       "  box-sizing: border-box;\n",
       "  padding-bottom: 0.4em;\n",
       "  background-color: var(--sklearn-color-background);\n",
       "}\n",
       "\n",
       "#sk-container-id-7 div.sk-container {\n",
       "  /* jupyter's `normalize.less` sets `[hidden] { display: none; }`\n",
       "     but bootstrap.min.css set `[hidden] { display: none !important; }`\n",
       "     so we also need the `!important` here to be able to override the\n",
       "     default hidden behavior on the sphinx rendered scikit-learn.org.\n",
       "     See: https://github.com/scikit-learn/scikit-learn/issues/21755 */\n",
       "  display: inline-block !important;\n",
       "  position: relative;\n",
       "}\n",
       "\n",
       "#sk-container-id-7 div.sk-text-repr-fallback {\n",
       "  display: none;\n",
       "}\n",
       "\n",
       "div.sk-parallel-item,\n",
       "div.sk-serial,\n",
       "div.sk-item {\n",
       "  /* draw centered vertical line to link estimators */\n",
       "  background-image: linear-gradient(var(--sklearn-color-text-on-default-background), var(--sklearn-color-text-on-default-background));\n",
       "  background-size: 2px 100%;\n",
       "  background-repeat: no-repeat;\n",
       "  background-position: center center;\n",
       "}\n",
       "\n",
       "/* Parallel-specific style estimator block */\n",
       "\n",
       "#sk-container-id-7 div.sk-parallel-item::after {\n",
       "  content: \"\";\n",
       "  width: 100%;\n",
       "  border-bottom: 2px solid var(--sklearn-color-text-on-default-background);\n",
       "  flex-grow: 1;\n",
       "}\n",
       "\n",
       "#sk-container-id-7 div.sk-parallel {\n",
       "  display: flex;\n",
       "  align-items: stretch;\n",
       "  justify-content: center;\n",
       "  background-color: var(--sklearn-color-background);\n",
       "  position: relative;\n",
       "}\n",
       "\n",
       "#sk-container-id-7 div.sk-parallel-item {\n",
       "  display: flex;\n",
       "  flex-direction: column;\n",
       "}\n",
       "\n",
       "#sk-container-id-7 div.sk-parallel-item:first-child::after {\n",
       "  align-self: flex-end;\n",
       "  width: 50%;\n",
       "}\n",
       "\n",
       "#sk-container-id-7 div.sk-parallel-item:last-child::after {\n",
       "  align-self: flex-start;\n",
       "  width: 50%;\n",
       "}\n",
       "\n",
       "#sk-container-id-7 div.sk-parallel-item:only-child::after {\n",
       "  width: 0;\n",
       "}\n",
       "\n",
       "/* Serial-specific style estimator block */\n",
       "\n",
       "#sk-container-id-7 div.sk-serial {\n",
       "  display: flex;\n",
       "  flex-direction: column;\n",
       "  align-items: center;\n",
       "  background-color: var(--sklearn-color-background);\n",
       "  padding-right: 1em;\n",
       "  padding-left: 1em;\n",
       "}\n",
       "\n",
       "\n",
       "/* Toggleable style: style used for estimator/Pipeline/ColumnTransformer box that is\n",
       "clickable and can be expanded/collapsed.\n",
       "- Pipeline and ColumnTransformer use this feature and define the default style\n",
       "- Estimators will overwrite some part of the style using the `sk-estimator` class\n",
       "*/\n",
       "\n",
       "/* Pipeline and ColumnTransformer style (default) */\n",
       "\n",
       "#sk-container-id-7 div.sk-toggleable {\n",
       "  /* Default theme specific background. It is overwritten whether we have a\n",
       "  specific estimator or a Pipeline/ColumnTransformer */\n",
       "  background-color: var(--sklearn-color-background);\n",
       "}\n",
       "\n",
       "/* Toggleable label */\n",
       "#sk-container-id-7 label.sk-toggleable__label {\n",
       "  cursor: pointer;\n",
       "  display: block;\n",
       "  width: 100%;\n",
       "  margin-bottom: 0;\n",
       "  padding: 0.5em;\n",
       "  box-sizing: border-box;\n",
       "  text-align: center;\n",
       "}\n",
       "\n",
       "#sk-container-id-7 label.sk-toggleable__label-arrow:before {\n",
       "  /* Arrow on the left of the label */\n",
       "  content: \"▸\";\n",
       "  float: left;\n",
       "  margin-right: 0.25em;\n",
       "  color: var(--sklearn-color-icon);\n",
       "}\n",
       "\n",
       "#sk-container-id-7 label.sk-toggleable__label-arrow:hover:before {\n",
       "  color: var(--sklearn-color-text);\n",
       "}\n",
       "\n",
       "/* Toggleable content - dropdown */\n",
       "\n",
       "#sk-container-id-7 div.sk-toggleable__content {\n",
       "  max-height: 0;\n",
       "  max-width: 0;\n",
       "  overflow: hidden;\n",
       "  text-align: left;\n",
       "  /* unfitted */\n",
       "  background-color: var(--sklearn-color-unfitted-level-0);\n",
       "}\n",
       "\n",
       "#sk-container-id-7 div.sk-toggleable__content.fitted {\n",
       "  /* fitted */\n",
       "  background-color: var(--sklearn-color-fitted-level-0);\n",
       "}\n",
       "\n",
       "#sk-container-id-7 div.sk-toggleable__content pre {\n",
       "  margin: 0.2em;\n",
       "  border-radius: 0.25em;\n",
       "  color: var(--sklearn-color-text);\n",
       "  /* unfitted */\n",
       "  background-color: var(--sklearn-color-unfitted-level-0);\n",
       "}\n",
       "\n",
       "#sk-container-id-7 div.sk-toggleable__content.fitted pre {\n",
       "  /* unfitted */\n",
       "  background-color: var(--sklearn-color-fitted-level-0);\n",
       "}\n",
       "\n",
       "#sk-container-id-7 input.sk-toggleable__control:checked~div.sk-toggleable__content {\n",
       "  /* Expand drop-down */\n",
       "  max-height: 200px;\n",
       "  max-width: 100%;\n",
       "  overflow: auto;\n",
       "}\n",
       "\n",
       "#sk-container-id-7 input.sk-toggleable__control:checked~label.sk-toggleable__label-arrow:before {\n",
       "  content: \"▾\";\n",
       "}\n",
       "\n",
       "/* Pipeline/ColumnTransformer-specific style */\n",
       "\n",
       "#sk-container-id-7 div.sk-label input.sk-toggleable__control:checked~label.sk-toggleable__label {\n",
       "  color: var(--sklearn-color-text);\n",
       "  background-color: var(--sklearn-color-unfitted-level-2);\n",
       "}\n",
       "\n",
       "#sk-container-id-7 div.sk-label.fitted input.sk-toggleable__control:checked~label.sk-toggleable__label {\n",
       "  background-color: var(--sklearn-color-fitted-level-2);\n",
       "}\n",
       "\n",
       "/* Estimator-specific style */\n",
       "\n",
       "/* Colorize estimator box */\n",
       "#sk-container-id-7 div.sk-estimator input.sk-toggleable__control:checked~label.sk-toggleable__label {\n",
       "  /* unfitted */\n",
       "  background-color: var(--sklearn-color-unfitted-level-2);\n",
       "}\n",
       "\n",
       "#sk-container-id-7 div.sk-estimator.fitted input.sk-toggleable__control:checked~label.sk-toggleable__label {\n",
       "  /* fitted */\n",
       "  background-color: var(--sklearn-color-fitted-level-2);\n",
       "}\n",
       "\n",
       "#sk-container-id-7 div.sk-label label.sk-toggleable__label,\n",
       "#sk-container-id-7 div.sk-label label {\n",
       "  /* The background is the default theme color */\n",
       "  color: var(--sklearn-color-text-on-default-background);\n",
       "}\n",
       "\n",
       "/* On hover, darken the color of the background */\n",
       "#sk-container-id-7 div.sk-label:hover label.sk-toggleable__label {\n",
       "  color: var(--sklearn-color-text);\n",
       "  background-color: var(--sklearn-color-unfitted-level-2);\n",
       "}\n",
       "\n",
       "/* Label box, darken color on hover, fitted */\n",
       "#sk-container-id-7 div.sk-label.fitted:hover label.sk-toggleable__label.fitted {\n",
       "  color: var(--sklearn-color-text);\n",
       "  background-color: var(--sklearn-color-fitted-level-2);\n",
       "}\n",
       "\n",
       "/* Estimator label */\n",
       "\n",
       "#sk-container-id-7 div.sk-label label {\n",
       "  font-family: monospace;\n",
       "  font-weight: bold;\n",
       "  display: inline-block;\n",
       "  line-height: 1.2em;\n",
       "}\n",
       "\n",
       "#sk-container-id-7 div.sk-label-container {\n",
       "  text-align: center;\n",
       "}\n",
       "\n",
       "/* Estimator-specific */\n",
       "#sk-container-id-7 div.sk-estimator {\n",
       "  font-family: monospace;\n",
       "  border: 1px dotted var(--sklearn-color-border-box);\n",
       "  border-radius: 0.25em;\n",
       "  box-sizing: border-box;\n",
       "  margin-bottom: 0.5em;\n",
       "  /* unfitted */\n",
       "  background-color: var(--sklearn-color-unfitted-level-0);\n",
       "}\n",
       "\n",
       "#sk-container-id-7 div.sk-estimator.fitted {\n",
       "  /* fitted */\n",
       "  background-color: var(--sklearn-color-fitted-level-0);\n",
       "}\n",
       "\n",
       "/* on hover */\n",
       "#sk-container-id-7 div.sk-estimator:hover {\n",
       "  /* unfitted */\n",
       "  background-color: var(--sklearn-color-unfitted-level-2);\n",
       "}\n",
       "\n",
       "#sk-container-id-7 div.sk-estimator.fitted:hover {\n",
       "  /* fitted */\n",
       "  background-color: var(--sklearn-color-fitted-level-2);\n",
       "}\n",
       "\n",
       "/* Specification for estimator info (e.g. \"i\" and \"?\") */\n",
       "\n",
       "/* Common style for \"i\" and \"?\" */\n",
       "\n",
       ".sk-estimator-doc-link,\n",
       "a:link.sk-estimator-doc-link,\n",
       "a:visited.sk-estimator-doc-link {\n",
       "  float: right;\n",
       "  font-size: smaller;\n",
       "  line-height: 1em;\n",
       "  font-family: monospace;\n",
       "  background-color: var(--sklearn-color-background);\n",
       "  border-radius: 1em;\n",
       "  height: 1em;\n",
       "  width: 1em;\n",
       "  text-decoration: none !important;\n",
       "  margin-left: 1ex;\n",
       "  /* unfitted */\n",
       "  border: var(--sklearn-color-unfitted-level-1) 1pt solid;\n",
       "  color: var(--sklearn-color-unfitted-level-1);\n",
       "}\n",
       "\n",
       ".sk-estimator-doc-link.fitted,\n",
       "a:link.sk-estimator-doc-link.fitted,\n",
       "a:visited.sk-estimator-doc-link.fitted {\n",
       "  /* fitted */\n",
       "  border: var(--sklearn-color-fitted-level-1) 1pt solid;\n",
       "  color: var(--sklearn-color-fitted-level-1);\n",
       "}\n",
       "\n",
       "/* On hover */\n",
       "div.sk-estimator:hover .sk-estimator-doc-link:hover,\n",
       ".sk-estimator-doc-link:hover,\n",
       "div.sk-label-container:hover .sk-estimator-doc-link:hover,\n",
       ".sk-estimator-doc-link:hover {\n",
       "  /* unfitted */\n",
       "  background-color: var(--sklearn-color-unfitted-level-3);\n",
       "  color: var(--sklearn-color-background);\n",
       "  text-decoration: none;\n",
       "}\n",
       "\n",
       "div.sk-estimator.fitted:hover .sk-estimator-doc-link.fitted:hover,\n",
       ".sk-estimator-doc-link.fitted:hover,\n",
       "div.sk-label-container:hover .sk-estimator-doc-link.fitted:hover,\n",
       ".sk-estimator-doc-link.fitted:hover {\n",
       "  /* fitted */\n",
       "  background-color: var(--sklearn-color-fitted-level-3);\n",
       "  color: var(--sklearn-color-background);\n",
       "  text-decoration: none;\n",
       "}\n",
       "\n",
       "/* Span, style for the box shown on hovering the info icon */\n",
       ".sk-estimator-doc-link span {\n",
       "  display: none;\n",
       "  z-index: 9999;\n",
       "  position: relative;\n",
       "  font-weight: normal;\n",
       "  right: .2ex;\n",
       "  padding: .5ex;\n",
       "  margin: .5ex;\n",
       "  width: min-content;\n",
       "  min-width: 20ex;\n",
       "  max-width: 50ex;\n",
       "  color: var(--sklearn-color-text);\n",
       "  box-shadow: 2pt 2pt 4pt #999;\n",
       "  /* unfitted */\n",
       "  background: var(--sklearn-color-unfitted-level-0);\n",
       "  border: .5pt solid var(--sklearn-color-unfitted-level-3);\n",
       "}\n",
       "\n",
       ".sk-estimator-doc-link.fitted span {\n",
       "  /* fitted */\n",
       "  background: var(--sklearn-color-fitted-level-0);\n",
       "  border: var(--sklearn-color-fitted-level-3);\n",
       "}\n",
       "\n",
       ".sk-estimator-doc-link:hover span {\n",
       "  display: block;\n",
       "}\n",
       "\n",
       "/* \"?\"-specific style due to the `<a>` HTML tag */\n",
       "\n",
       "#sk-container-id-7 a.estimator_doc_link {\n",
       "  float: right;\n",
       "  font-size: 1rem;\n",
       "  line-height: 1em;\n",
       "  font-family: monospace;\n",
       "  background-color: var(--sklearn-color-background);\n",
       "  border-radius: 1rem;\n",
       "  height: 1rem;\n",
       "  width: 1rem;\n",
       "  text-decoration: none;\n",
       "  /* unfitted */\n",
       "  color: var(--sklearn-color-unfitted-level-1);\n",
       "  border: var(--sklearn-color-unfitted-level-1) 1pt solid;\n",
       "}\n",
       "\n",
       "#sk-container-id-7 a.estimator_doc_link.fitted {\n",
       "  /* fitted */\n",
       "  border: var(--sklearn-color-fitted-level-1) 1pt solid;\n",
       "  color: var(--sklearn-color-fitted-level-1);\n",
       "}\n",
       "\n",
       "/* On hover */\n",
       "#sk-container-id-7 a.estimator_doc_link:hover {\n",
       "  /* unfitted */\n",
       "  background-color: var(--sklearn-color-unfitted-level-3);\n",
       "  color: var(--sklearn-color-background);\n",
       "  text-decoration: none;\n",
       "}\n",
       "\n",
       "#sk-container-id-7 a.estimator_doc_link.fitted:hover {\n",
       "  /* fitted */\n",
       "  background-color: var(--sklearn-color-fitted-level-3);\n",
       "}\n",
       "</style><div id=\"sk-container-id-7\" class=\"sk-top-container\"><div class=\"sk-text-repr-fallback\"><pre>XGBClassifier(base_score=None, booster=None, callbacks=None,\n",
       "              colsample_bylevel=None, colsample_bynode=None,\n",
       "              colsample_bytree=None, device=None, early_stopping_rounds=None,\n",
       "              enable_categorical=False, eval_metric=&#x27;logloss&#x27;,\n",
       "              feature_types=None, feature_weights=None, gamma=None,\n",
       "              grow_policy=None, importance_type=None,\n",
       "              interaction_constraints=None, learning_rate=None, max_bin=None,\n",
       "              max_cat_threshold=None, max_cat_to_onehot=None,\n",
       "              max_delta_step=None, max_depth=None, max_leaves=None,\n",
       "              min_child_weight=None, missing=nan, monotone_constraints=None,\n",
       "              multi_strategy=None, n_estimators=None, n_jobs=None,\n",
       "              num_parallel_tree=None, ...)</pre><b>In a Jupyter environment, please rerun this cell to show the HTML representation or trust the notebook. <br />On GitHub, the HTML representation is unable to render, please try loading this page with nbviewer.org.</b></div><div class=\"sk-container\" hidden><div class=\"sk-item\"><div class=\"sk-estimator fitted sk-toggleable\"><input class=\"sk-toggleable__control sk-hidden--visually\" id=\"sk-estimator-id-7\" type=\"checkbox\" checked><label for=\"sk-estimator-id-7\" class=\"sk-toggleable__label fitted sk-toggleable__label-arrow fitted\">&nbsp;&nbsp;XGBClassifier<a class=\"sk-estimator-doc-link fitted\" rel=\"noreferrer\" target=\"_blank\" href=\"https://xgboost.readthedocs.io/en/release_3.0.0/python/python_api.html#xgboost.XGBClassifier\">?<span>Documentation for XGBClassifier</span></a><span class=\"sk-estimator-doc-link fitted\">i<span>Fitted</span></span></label><div class=\"sk-toggleable__content fitted\"><pre>XGBClassifier(base_score=None, booster=None, callbacks=None,\n",
       "              colsample_bylevel=None, colsample_bynode=None,\n",
       "              colsample_bytree=None, device=None, early_stopping_rounds=None,\n",
       "              enable_categorical=False, eval_metric=&#x27;logloss&#x27;,\n",
       "              feature_types=None, feature_weights=None, gamma=None,\n",
       "              grow_policy=None, importance_type=None,\n",
       "              interaction_constraints=None, learning_rate=None, max_bin=None,\n",
       "              max_cat_threshold=None, max_cat_to_onehot=None,\n",
       "              max_delta_step=None, max_depth=None, max_leaves=None,\n",
       "              min_child_weight=None, missing=nan, monotone_constraints=None,\n",
       "              multi_strategy=None, n_estimators=None, n_jobs=None,\n",
       "              num_parallel_tree=None, ...)</pre></div> </div></div></div></div>"
      ],
      "text/plain": [
       "XGBClassifier(base_score=None, booster=None, callbacks=None,\n",
       "              colsample_bylevel=None, colsample_bynode=None,\n",
       "              colsample_bytree=None, device=None, early_stopping_rounds=None,\n",
       "              enable_categorical=False, eval_metric='logloss',\n",
       "              feature_types=None, feature_weights=None, gamma=None,\n",
       "              grow_policy=None, importance_type=None,\n",
       "              interaction_constraints=None, learning_rate=None, max_bin=None,\n",
       "              max_cat_threshold=None, max_cat_to_onehot=None,\n",
       "              max_delta_step=None, max_depth=None, max_leaves=None,\n",
       "              min_child_weight=None, missing=nan, monotone_constraints=None,\n",
       "              multi_strategy=None, n_estimators=None, n_jobs=None,\n",
       "              num_parallel_tree=None, ...)"
      ]
     },
     "execution_count": 533,
     "metadata": {},
     "output_type": "execute_result"
    }
   ],
   "source": [
    "# Training the XGB Model\n",
    "xgb_model = XGBClassifier(eval_metric='logloss')\n",
    "xgb_model.fit(X_resampled, y_resampled)"
   ]
  },
  {
   "cell_type": "code",
   "execution_count": null,
   "id": "6c50681f",
   "metadata": {},
   "outputs": [
    {
     "name": "stdout",
     "output_type": "stream",
     "text": [
      "[[26  8]\n",
      " [21  4]]\n",
      "              precision    recall  f1-score   support\n",
      "\n",
      "           0       0.55      0.76      0.64        34\n",
      "           1       0.33      0.16      0.22        25\n",
      "\n",
      "    accuracy                           0.51        59\n",
      "   macro avg       0.44      0.46      0.43        59\n",
      "weighted avg       0.46      0.51      0.46        59\n",
      "\n"
     ]
    }
   ],
   "source": [
    "y_pred = xgb_model.predict(X_test)\n",
    "print(confusion_matrix(y_test, y_pred))\n",
    "print(classification_report(y_test, y_pred))"
   ]
  },
  {
   "cell_type": "markdown",
   "id": "e493c720",
   "metadata": {},
   "source": [
    "##### Although XGBoost is generally a high-performing ensemble method, it did not improve classification of at-risk species in this case. After applying SMOTE and training the model, it exhibited poor recall and F1-score for the minority class. This suggests that, for our dataset, the more interpretable Logistic Regression model with balancing and scaling was not only simpler but also better at generalizing across both classes. We therefore retained Logistic Regression as our final model."
   ]
  },
  {
   "cell_type": "markdown",
   "id": "7e344cdd",
   "metadata": {},
   "source": [
    "#### **Conclusion**\n",
    "##### Despite testing a range of machine learning models — including Random Forest, Gradient Boosting, SVM, and XGBoost — none were able to outperform Logistic Regression on the balanced dataset. This confirms that Logistic Regression provides a strong balance between interpretability and predictive power. Additionally, it benefits from simplicity and speed, making it the preferred model moving forward."
   ]
  },
  {
   "cell_type": "markdown",
   "id": "840b3bb4",
   "metadata": {},
   "source": [
    "---"
   ]
  },
  {
   "cell_type": "markdown",
   "id": "81294686",
   "metadata": {},
   "source": [
    "#### **Testing the Model**"
   ]
  },
  {
   "cell_type": "code",
   "execution_count": 614,
   "id": "2d6612f7",
   "metadata": {},
   "outputs": [],
   "source": [
    "fake_animals = pd.DataFrame([\n",
    "    # Stoneback Mammoth\n",
    "    [350, 5200, 70, 25, 660, 1, 0, 2, 1, 0, 0, 0, 0, 0, 1.8, 27.5, 1, 0, 0, 0, 0, 0, 0, 0],\n",
    "    # Glass-Eared Hare\n",
    "    [35, 1.5, 5, 45, 35, 5, 0, 1, 0, 0, 0, 1, 0, 0, 2.4, 25.1, 0, 0, 1, 0, 0, 0, 0, 0],\n",
    "    # Vine-Wrapped Cobra\n",
    "    [20, 6, 18, 8, 60, 12, 0, 0, 0, 1, 0, 0, 0, 0, 2.9, 26.8, 1, 0, 0, 0, 0, 0, 0, 0],\n",
    "], columns=[\n",
    "    'Height (cm)',\n",
    "    'Weight (kg)',\n",
    "    'Lifespan (years)',\n",
    "    'Average Speed (km/h)',\n",
    "    'Gestation Period (days)',\n",
    "    'Offspring per Birth',\n",
    "    'At_Risk',\n",
    "    'Social Encoded',\n",
    "    'Africa',\n",
    "    'Asia',\n",
    "    'Europe',\n",
    "    'Americas',\n",
    "    'Oceania',\n",
    "    'Arctic',\n",
    "    'temp_change',\n",
    "    'avg_temp_recent',\n",
    "    'Habitat Category_Forests',\n",
    "    'Habitat Category_Freshwater',\n",
    "    'Habitat Category_Grasslands',\n",
    "    'Habitat Category_Mountains',\n",
    "    'Habitat Category_Oceans',\n",
    "    'Habitat Category_Other',\n",
    "    'Habitat Category_Tundra',\n",
    "    'Habitat Category_Wetlands'\n",
    "])"
   ]
  },
  {
   "cell_type": "code",
   "execution_count": 617,
   "id": "1cf4ac94",
   "metadata": {},
   "outputs": [
    {
     "name": "stdout",
     "output_type": "stream",
     "text": [
      "Animal 1: Prediction = At Risk, At Risk Probability = 1.00\n",
      "Animal 2: Prediction = Not at Risk, At Risk Probability = 0.06\n",
      "Animal 3: Prediction = At Risk, At Risk Probability = 0.82\n"
     ]
    }
   ],
   "source": [
    "# 1. Drop label and align\n",
    "X_sample = fake_animals.drop(columns=[\"At_Risk\"], errors=\"ignore\")\n",
    "X_sample_aligned = X_sample.reindex(columns=X_train.columns, fill_value=0.0)\n",
    "\n",
    "# 2. Scale the same way\n",
    "X_sample_scaled = scaler.transform(X_sample_aligned)\n",
    "\n",
    "# 3. Apply same feature selector\n",
    "X_sample_selected = selector.transform(X_sample_scaled)\n",
    "\n",
    "# 4. Predict\n",
    "predictions = lr_model.predict(X_sample_selected)\n",
    "probabilities = lr_model.predict_proba(X_sample_selected)\n",
    "\n",
    "# 5. Show results\n",
    "for i, (pred, proba) in enumerate(zip(predictions, probabilities), start=1):\n",
    "    label = \"At Risk\" if pred == 1 else \"Not at Risk\"\n",
    "    print(f\"Animal {i}: Prediction = {label}, At Risk Probability = {proba[1]:.2f}\")\n",
    "\n",
    "\n"
   ]
  },
  {
   "cell_type": "code",
   "execution_count": 619,
   "id": "026a4070",
   "metadata": {},
   "outputs": [
    {
     "data": {
      "image/png": "[encoded data removed]",
      "text/plain": [
       "<Figure size 800x500 with 1 Axes>"
      ]
     },
     "metadata": {},
     "output_type": "display_data"
    }
   ],
   "source": [
    "# List of fake animal names\n",
    "animal_names = [f\"Animal {i+1}\" for i in range(len(predictions))]\n",
    "at_risk_probs = [proba[1] for proba in probabilities]\n",
    "\n",
    "plt.figure(figsize=(8, 5))\n",
    "bars = plt.bar(animal_names, at_risk_probs, color=[\"red\" if p > 0.5 else \"green\" for p in at_risk_probs])\n",
    "\n",
    "plt.ylim(0, 1)\n",
    "plt.ylabel(\"Probability of Being At Risk\")\n",
    "plt.title(\"Predicted Risk for Fake Animals\")\n",
    "plt.axhline(0.5, color='gray', linestyle='--', linewidth=1)\n",
    "plt.grid(axis='y', linestyle='--', alpha=0.5)\n",
    "\n",
    "# Add labels on top\n",
    "for bar, prob in zip(bars, at_risk_probs):\n",
    "    plt.text(bar.get_x() + bar.get_width() / 2, bar.get_height() + 0.02,\n",
    "             f\"{prob:.2f}\", ha='center', va='bottom')\n",
    "\n",
    "plt.tight_layout()\n",
    "plt.show()\n"
   ]
  },
  {
   "cell_type": "markdown",
   "id": "2eb25250",
   "metadata": {},
   "source": [
    "##### To qualitatively validate the model, three fictional animals with varying biological and environmental traits were created and tested using the final trained Logistic Regression model (trained with SelectKBest and SMOTE applied).\n",
    "\n",
    "- Animal 1 (Mammoth-like): Very large, long gestation, slow-reproducing, located in Africa — predicted At Risk with 1.00 probability.\n",
    "\n",
    "- Animal 2 (Hare-like): Small, fast, short gestation, multiple offspring — predicted Not at Risk with 0.06 probability.\n",
    "\n",
    "- Animal 3 (Cobra-like): Medium weight, specialized habitat, moderate reproduction — predicted At Risk with 0.82 probability.\n",
    "\n",
    "##### These results aligned closely with realistic biological expectations, suggesting that the model has not only learned statistical patterns but also captured relevant ecological signals such as vulnerability due to size, reproduction speed, and habitat specificity. This supports the generalizability and interpretability of the trained model."
   ]
  },
  {
   "cell_type": "markdown",
   "id": "d2b11ab8",
   "metadata": {},
   "source": [
    "##### The decision tree begins by splitting animals based on the at_risk label, and uses biological traits like lifespan, weight, gestation period, and average speed to refine the classification. Nodes are split based on thresholds (e.g., lifespan <= 27.75 years), helping the model decide if an animal is more likely to be endangered. Regions like Americas_climate and Africa_bio also appear as key decision factors. The tree ends with leaves representing the final classification, where each sample is assigned a label based on purity (Gini score) and majority class."
   ]
  },
  {
   "cell_type": "markdown",
   "id": "b95075e3",
   "metadata": {},
   "source": [
    "#####\n",
    "\n",
    "##### After testing the model with 3 fake animals, which it predicted to be false (which is true, if we look at the list I had made of fake animals, the \"At_Risk\" was set to 0 = false), the next step is to put it up against some of the animals from the real dataset."
   ]
  },
  {
   "cell_type": "code",
   "execution_count": null,
   "id": "d0f76b32",
   "metadata": {},
   "outputs": [],
   "source": [
    "# Predict on full real dataset\n",
    "X_real_scaled = scaler.transform(X)  # Use the same scaler from training\n",
    "X_real_selected = selector.transform(X_real_scaled)  # Because I use SelectKBest\n",
    "\n",
    "predictions = lr_model.predict(X_real_selected)\n",
    "probabilities = lr_model.predict_proba(X_real_selected)\n",
    "\n",
    "# Creating an comparison DataFrame\n",
    "comparison_real = pd.DataFrame({\n",
    "    \"Predicted\": predictions,\n",
    "    \"At_Risk_Probability\": probabilities[:, 1]\n",
    "})"
   ]
  },
  {
   "cell_type": "code",
   "execution_count": null,
   "id": "4bf9df86",
   "metadata": {},
   "outputs": [
    {
     "name": "stdout",
     "output_type": "stream",
     "text": [
      "     Predicted  At_Risk_Probability\n",
      "0            0             0.453175\n",
      "1            0             0.164494\n",
      "2            1             0.973410\n",
      "3            0             0.138887\n",
      "4            0             0.099322\n",
      "..         ...                  ...\n",
      "191          1             0.529859\n",
      "192          0             0.435473\n",
      "193          0             0.435563\n",
      "194          0             0.304141\n",
      "195          0             0.418610\n",
      "\n",
      "[196 rows x 2 columns]\n"
     ]
    }
   ],
   "source": [
    "print(comparison_real[comparison_real['At_Risk_Probability'] != comparison_real['Predicted']])"
   ]
  },
  {
   "cell_type": "markdown",
   "id": "da4b9b80",
   "metadata": {},
   "source": [
    "##### The final model outputs both binary predictions and the associated probability of an animal being at risk. This allows for a more nuanced interpretation beyond simple classification. As seen in the output, the model is capable of assigning high probabilities to certain high-risk cases (e.g., 0.97), which reflects good confidence in those predictions. The continuous probability scale also enables prioritization of borderline cases, offering a practical tool for conservation efforts even when exact labels are uncertain."
   ]
  },
  {
   "cell_type": "code",
   "execution_count": null,
   "id": "e788a201",
   "metadata": {},
   "outputs": [
    {
     "data": {
      "text/plain": [
       "<sklearn.metrics._plot.confusion_matrix.ConfusionMatrixDisplay at 0x27860ebab70>"
      ]
     },
     "execution_count": 629,
     "metadata": {},
     "output_type": "execute_result"
    },
    {
     "data": {
      "image/png": "[encoded data removed]",
      "text/plain": [
       "<Figure size 640x480 with 2 Axes>"
      ]
     },
     "metadata": {},
     "output_type": "display_data"
    }
   ],
   "source": [
    "# Labels from the original dataset\n",
    "y_true = df_merged[\"At_Risk\"]\n",
    "\n",
    "# Predicted labels from the model\n",
    "y_pred = comparison_real[\"Predicted\"]\n",
    "\n",
    "cm = confusion_matrix(y_true, y_pred)\n",
    "disp = ConfusionMatrixDisplay(confusion_matrix=cm, display_labels=[\"Not At Risk\", \"At Risk\"])\n",
    "disp.plot(cmap=\"Purples\")"
   ]
  },
  {
   "cell_type": "markdown",
   "id": "cef84929",
   "metadata": {},
   "source": [
    "##### To evaluate the performance of my final model on the full animal dataset, I used a confusion matrix. This visualization is especially helpful for classification tasks, as it breaks down the number of true positives, true negatives, false positives, and false negatives in a single glance.\n",
    "\n",
    "##### I chose to include this because it allows me to clearly assess where the model makes mistakes—for example, misclassifying animals that are truly \"At Risk\" as \"Not At Risk\", which in a real-world conservation context could be critical.\n",
    "\n",
    "##### In my matrix:\n",
    "\n",
    "- 87 animals were correctly classified as Not At Risk.\n",
    "\n",
    "- 55 animals were correctly classified as At Risk.\n",
    "\n",
    "- 25 animals were wrongly predicted as \"At Risk\" when they were not.\n",
    "\n",
    "- 29 animals that were actually \"At Risk\" were missed by the model.\n",
    "\n",
    "##### This matrix shows that while the model performs quite well overall, it still misses a portion of truly at-risk species. That highlights a potential area of improvement if the goal is to prioritize recall on endangered animals."
   ]
  },
  {
   "cell_type": "markdown",
   "id": "9bbb7d5d",
   "metadata": {},
   "source": [
    "#### **Conclusion**\n",
    "##### The combined use of SMOTE and SelectKBest significantly improved the model’s ability to identify animals at risk of extinction. Testing showed accurate and realistic predictions, both on unseen fake animals and the full dataset. The confusion matrix confirmed balanced performance, though some at-risk species were still missed. Overall, the model provides a strong and scalable foundation for early risk detection in conservation efforts."
   ]
  },
  {
   "cell_type": "markdown",
   "id": "70bd73c7",
   "metadata": {},
   "source": [
    "---"
   ]
  },
  {
   "cell_type": "markdown",
   "id": "5c1255bc",
   "metadata": {},
   "source": [
    "#####\n",
    "\n",
    "#### **Clustering Animals Based on Traits (Unsupervised ML)**"
   ]
  },
  {
   "cell_type": "code",
   "execution_count": 646,
   "id": "fb403ab6",
   "metadata": {},
   "outputs": [],
   "source": [
    "df_merged = df_merged.copy()\n",
    "\n",
    "df_merged.fillna(0, inplace=True)\n",
    "\n",
    "X_traits = df_merged[[\n",
    "    'Height (cm)', 'Weight (kg)', 'Lifespan (years)', 'Average Speed (km/h)',\n",
    "    'Gestation Period (days)', 'Offspring per Birth'\n",
    "]].dropna()"
   ]
  },
  {
   "cell_type": "code",
   "execution_count": 647,
   "id": "174dbace",
   "metadata": {},
   "outputs": [],
   "source": [
    "scaler = StandardScaler()\n",
    "X_scaled = scaler.fit_transform(X_traits)"
   ]
  },
  {
   "cell_type": "code",
   "execution_count": 648,
   "id": "3cd0cd54",
   "metadata": {},
   "outputs": [
    {
     "name": "stdout",
     "output_type": "stream",
     "text": [
      "Best number of clusters: 2 with silhouette score: 0.80\n"
     ]
    },
    {
     "name": "stderr",
     "output_type": "stream",
     "text": [
      "c:\\Users\\nadia\\anaconda3\\Lib\\site-packages\\sklearn\\cluster\\_kmeans.py:1429: UserWarning: KMeans is known to have a memory leak on Windows with MKL, when there are less chunks than available threads. You can avoid it by setting the environment variable OMP_NUM_THREADS=1.\n",
      "  warnings.warn(\n",
      "c:\\Users\\nadia\\anaconda3\\Lib\\site-packages\\sklearn\\cluster\\_kmeans.py:1429: UserWarning: KMeans is known to have a memory leak on Windows with MKL, when there are less chunks than available threads. You can avoid it by setting the environment variable OMP_NUM_THREADS=1.\n",
      "  warnings.warn(\n",
      "c:\\Users\\nadia\\anaconda3\\Lib\\site-packages\\sklearn\\cluster\\_kmeans.py:1429: UserWarning: KMeans is known to have a memory leak on Windows with MKL, when there are less chunks than available threads. You can avoid it by setting the environment variable OMP_NUM_THREADS=1.\n",
      "  warnings.warn(\n",
      "c:\\Users\\nadia\\anaconda3\\Lib\\site-packages\\sklearn\\cluster\\_kmeans.py:1429: UserWarning: KMeans is known to have a memory leak on Windows with MKL, when there are less chunks than available threads. You can avoid it by setting the environment variable OMP_NUM_THREADS=1.\n",
      "  warnings.warn(\n",
      "c:\\Users\\nadia\\anaconda3\\Lib\\site-packages\\sklearn\\cluster\\_kmeans.py:1429: UserWarning: KMeans is known to have a memory leak on Windows with MKL, when there are less chunks than available threads. You can avoid it by setting the environment variable OMP_NUM_THREADS=1.\n",
      "  warnings.warn(\n",
      "c:\\Users\\nadia\\anaconda3\\Lib\\site-packages\\sklearn\\cluster\\_kmeans.py:1429: UserWarning: KMeans is known to have a memory leak on Windows with MKL, when there are less chunks than available threads. You can avoid it by setting the environment variable OMP_NUM_THREADS=1.\n",
      "  warnings.warn(\n",
      "c:\\Users\\nadia\\anaconda3\\Lib\\site-packages\\sklearn\\cluster\\_kmeans.py:1429: UserWarning: KMeans is known to have a memory leak on Windows with MKL, when there are less chunks than available threads. You can avoid it by setting the environment variable OMP_NUM_THREADS=1.\n",
      "  warnings.warn(\n",
      "c:\\Users\\nadia\\anaconda3\\Lib\\site-packages\\sklearn\\cluster\\_kmeans.py:1429: UserWarning: KMeans is known to have a memory leak on Windows with MKL, when there are less chunks than available threads. You can avoid it by setting the environment variable OMP_NUM_THREADS=1.\n",
      "  warnings.warn(\n"
     ]
    }
   ],
   "source": [
    "scores = []\n",
    "for k in range(2, 10):\n",
    "    kmeans = KMeans(n_clusters=k, random_state=42)\n",
    "    kmeans.fit(X_scaled)\n",
    "    score = silhouette_score(X_scaled, kmeans.labels_)\n",
    "    scores.append((k, score))\n",
    "\n",
    "# Show the best cluster\n",
    "best_k = max(scores, key=lambda x: x[1])\n",
    "print(f\"Best number of clusters: {best_k[0]} with silhouette score: {best_k[1]:.2f}\")"
   ]
  },
  {
   "cell_type": "markdown",
   "id": "68834173",
   "metadata": {},
   "source": [
    "##### To explore hidden patterns among animal traits, I applied unsupervised clustering using KMeans and evaluated the optimal number of clusters with the Silhouette Score.\n",
    "##### The best number of clusters was found to be 2, with a high silhouette score of 0.80, indicating very well-defined and separated clusters.\n",
    "##### This suggests that animals in the dataset can naturally be grouped into two distinct categories based on traits like height, weight, lifespan, gestation, and speed — potentially distinguishing \"larger, longer-lived species\" from \"smaller, faster-breeding ones.\""
   ]
  },
  {
   "cell_type": "code",
   "execution_count": null,
   "id": "45dbc4f3",
   "metadata": {},
   "outputs": [
    {
     "name": "stderr",
     "output_type": "stream",
     "text": [
      "c:\\Users\\nadia\\anaconda3\\Lib\\site-packages\\sklearn\\cluster\\_kmeans.py:1429: UserWarning: KMeans is known to have a memory leak on Windows with MKL, when there are less chunks than available threads. You can avoid it by setting the environment variable OMP_NUM_THREADS=1.\n",
      "  warnings.warn(\n"
     ]
    }
   ],
   "source": [
    "# Get ALL animal trait rows\n",
    "X_traits = df_merged[[\"Height (cm)\", \"Weight (kg)\", \"Lifespan (years)\", \n",
    "                      \"Average Speed (km/h)\", \"Gestation Period (days)\", \n",
    "                      \"Offspring per Birth\"]]\n",
    "\n",
    "# Scaling fresh from scratch\n",
    "scaler = StandardScaler()\n",
    "X_scaled = scaler.fit_transform(X_traits)\n",
    "\n",
    "# Applying KMeans to the full scaled data\n",
    "kmeans = KMeans(n_clusters=best_k[0], random_state=42)\n",
    "df_merged[\"Cluster\"] = kmeans.fit_predict(X_scaled)\n"
   ]
  },
  {
   "cell_type": "code",
   "execution_count": 650,
   "id": "f50c3af6",
   "metadata": {},
   "outputs": [
    {
     "name": "stderr",
     "output_type": "stream",
     "text": [
      "c:\\Users\\nadia\\anaconda3\\Lib\\site-packages\\sklearn\\cluster\\_kmeans.py:1429: UserWarning: KMeans is known to have a memory leak on Windows with MKL, when there are less chunks than available threads. You can avoid it by setting the environment variable OMP_NUM_THREADS=1.\n",
      "  warnings.warn(\n"
     ]
    }
   ],
   "source": [
    "kmeans = KMeans(n_clusters=best_k[0], random_state=42)\n",
    "df_merged[\"Cluster\"] = kmeans.fit_predict(X_scaled)"
   ]
  },
  {
   "cell_type": "markdown",
   "id": "60a51c5d",
   "metadata": {},
   "source": [
    "##### Using K-Means clustering, we grouped the species into k clusters based on their biological and/or climate features.\n",
    "##### The optimal number of clusters (best_k) was determined previously (e.g., using silhouette scores).\n",
    "##### This unsupervised step helps explore whether natural groupings exist among species and can reveal patterns in the data (e.g., species with similar traits falling into the same cluster).\n",
    "##### The cluster assignment was stored in the Cluster column, which can later be used for visualization, validation, or comparative analysis against the known extinction risk."
   ]
  },
  {
   "cell_type": "code",
   "execution_count": 651,
   "id": "61f84e58",
   "metadata": {},
   "outputs": [
    {
     "data": {
      "image/png": "[encoded data removed]",
      "text/plain": [
       "<Figure size 800x600 with 2 Axes>"
      ]
     },
     "metadata": {},
     "output_type": "display_data"
    }
   ],
   "source": [
    "# Reduce dimensions\n",
    "pca = PCA(n_components=2)\n",
    "reduced = pca.fit_transform(X_scaled)\n",
    "\n",
    "# Plot clusters\n",
    "plt.figure(figsize=(8, 6))\n",
    "plt.scatter(reduced[:, 0], reduced[:, 1], c=df_merged['Cluster'], cmap='viridis')\n",
    "plt.title(\"Animal Clusters Based on Traits\")\n",
    "plt.xlabel(\"PCA Component 1\")\n",
    "plt.ylabel(\"PCA Component 2\")\n",
    "plt.colorbar(label='Cluster')\n",
    "plt.show()"
   ]
  },
  {
   "cell_type": "markdown",
   "id": "d6bb6548",
   "metadata": {},
   "source": [
    "##### To explore natural groupings within the species based on biological and environmental traits, KMeans clustering was applied with the optimal number of clusters determined in advance. Principal Component Analysis (PCA) was used to reduce the dataset to 2 dimensions for visualization purposes.\n",
    "\n",
    "##### The resulting plot shows that most animals fall into a single large cluster, while a few species are significantly different, forming a second, much smaller cluster. This suggests that, based on the selected features, most animals share similar trait profiles, while a few outliers (perhaps highly specialized or extreme species) stand out.\n",
    "\n",
    "##### Although the clustering did not reveal distinct groups overall, it highlighted the presence of outlier species that may require special attention in extinction risk analysis."
   ]
  },
  {
   "cell_type": "markdown",
   "id": "e83fbbc8",
   "metadata": {},
   "source": [
    "####\n",
    "#### **Comparing clusters vs. \"at_risk\" labels.** "
   ]
  },
  {
   "cell_type": "code",
   "execution_count": 659,
   "id": "141c05e4",
   "metadata": {},
   "outputs": [
    {
     "data": {
      "text/html": [
       "<div>\n",
       "<style scoped>\n",
       "    .dataframe tbody tr th:only-of-type {\n",
       "        vertical-align: middle;\n",
       "    }\n",
       "\n",
       "    .dataframe tbody tr th {\n",
       "        vertical-align: top;\n",
       "    }\n",
       "\n",
       "    .dataframe thead th {\n",
       "        text-align: right;\n",
       "    }\n",
       "</style>\n",
       "<table border=\"1\" class=\"dataframe\">\n",
       "  <thead>\n",
       "    <tr style=\"text-align: right;\">\n",
       "      <th>At Risk</th>\n",
       "      <th>False</th>\n",
       "      <th>True</th>\n",
       "    </tr>\n",
       "    <tr>\n",
       "      <th>Cluster</th>\n",
       "      <th></th>\n",
       "      <th></th>\n",
       "    </tr>\n",
       "  </thead>\n",
       "  <tbody>\n",
       "    <tr>\n",
       "      <th>0</th>\n",
       "      <td>111</td>\n",
       "      <td>84</td>\n",
       "    </tr>\n",
       "    <tr>\n",
       "      <th>1</th>\n",
       "      <td>1</td>\n",
       "      <td>0</td>\n",
       "    </tr>\n",
       "  </tbody>\n",
       "</table>\n",
       "</div>"
      ],
      "text/plain": [
       "At Risk  False  True \n",
       "Cluster              \n",
       "0          111     84\n",
       "1            1      0"
      ]
     },
     "execution_count": 659,
     "metadata": {},
     "output_type": "execute_result"
    }
   ],
   "source": [
    "pd.crosstab(df_merged['Cluster'], df_merged['At_Risk'], rownames=['Cluster'], colnames=['At Risk'])"
   ]
  },
  {
   "cell_type": "markdown",
   "id": "5d185b09",
   "metadata": {},
   "source": [
    "##### A crosstab between KMeans cluster assignments and the actual \"At Risk\" labels was performed to assess if the unsupervised clusters align with extinction risk.\n",
    "\n",
    "- The results show that Cluster 0 contains the vast majority of species, including both those at risk and not at risk. Cluster 1 contains only one species, which is not at risk.\n",
    "- This suggests that KMeans clustering did not successfully separate animals based on extinction risk. Instead, the clusters likely reflect other forms of similarity or outlier traits not directly tied to the conservation status.\n",
    "##### Overall, this analysis indicates that KMeans was not effective in identifying at-risk species without supervision, highlighting the importance of using labeled, supervised learning models for extinction prediction"
   ]
  },
  {
   "cell_type": "markdown",
   "id": "12afa8b7",
   "metadata": {},
   "source": [
    "#####\n",
    "#### **Groupby Cluster Averages**"
   ]
  },
  {
   "cell_type": "code",
   "execution_count": 660,
   "id": "e6b9ae51",
   "metadata": {},
   "outputs": [
    {
     "data": {
      "text/html": [
       "<div>\n",
       "<style scoped>\n",
       "    .dataframe tbody tr th:only-of-type {\n",
       "        vertical-align: middle;\n",
       "    }\n",
       "\n",
       "    .dataframe tbody tr th {\n",
       "        vertical-align: top;\n",
       "    }\n",
       "\n",
       "    .dataframe thead th {\n",
       "        text-align: right;\n",
       "    }\n",
       "</style>\n",
       "<table border=\"1\" class=\"dataframe\">\n",
       "  <thead>\n",
       "    <tr style=\"text-align: right;\">\n",
       "      <th></th>\n",
       "      <th>Height (cm)</th>\n",
       "      <th>Weight (kg)</th>\n",
       "      <th>Lifespan (years)</th>\n",
       "      <th>Average Speed (km/h)</th>\n",
       "      <th>Gestation Period (days)</th>\n",
       "      <th>Offspring per Birth</th>\n",
       "      <th>At_Risk</th>\n",
       "      <th>Social Encoded</th>\n",
       "      <th>Africa</th>\n",
       "      <th>Asia</th>\n",
       "      <th>Europe</th>\n",
       "      <th>Americas</th>\n",
       "      <th>Oceania</th>\n",
       "      <th>Arctic</th>\n",
       "      <th>temp_change</th>\n",
       "      <th>avg_temp_recent</th>\n",
       "    </tr>\n",
       "    <tr>\n",
       "      <th>Cluster</th>\n",
       "      <th></th>\n",
       "      <th></th>\n",
       "      <th></th>\n",
       "      <th></th>\n",
       "      <th></th>\n",
       "      <th></th>\n",
       "      <th></th>\n",
       "      <th></th>\n",
       "      <th></th>\n",
       "      <th></th>\n",
       "      <th></th>\n",
       "      <th></th>\n",
       "      <th></th>\n",
       "      <th></th>\n",
       "      <th></th>\n",
       "      <th></th>\n",
       "    </tr>\n",
       "  </thead>\n",
       "  <tbody>\n",
       "    <tr>\n",
       "      <th>0</th>\n",
       "      <td>57.637692</td>\n",
       "      <td>124.626167</td>\n",
       "      <td>18.425641</td>\n",
       "      <td>29.513769</td>\n",
       "      <td>120.482051</td>\n",
       "      <td>8.517949</td>\n",
       "      <td>0.430769</td>\n",
       "      <td>6.466667</td>\n",
       "      <td>0.2</td>\n",
       "      <td>0.25641</td>\n",
       "      <td>0.035897</td>\n",
       "      <td>0.251282</td>\n",
       "      <td>0.128205</td>\n",
       "      <td>0.046154</td>\n",
       "      <td>0.808769</td>\n",
       "      <td>15.411723</td>\n",
       "    </tr>\n",
       "    <tr>\n",
       "      <th>1</th>\n",
       "      <td>1850.000000</td>\n",
       "      <td>2150.000000</td>\n",
       "      <td>45.000000</td>\n",
       "      <td>45.000000</td>\n",
       "      <td>270.000000</td>\n",
       "      <td>7.500000</td>\n",
       "      <td>0.000000</td>\n",
       "      <td>3.000000</td>\n",
       "      <td>1.0</td>\n",
       "      <td>0.00000</td>\n",
       "      <td>0.000000</td>\n",
       "      <td>0.000000</td>\n",
       "      <td>0.000000</td>\n",
       "      <td>0.000000</td>\n",
       "      <td>0.190000</td>\n",
       "      <td>21.703000</td>\n",
       "    </tr>\n",
       "  </tbody>\n",
       "</table>\n",
       "</div>"
      ],
      "text/plain": [
       "         Height (cm)  Weight (kg)  Lifespan (years)  Average Speed (km/h)  \\\n",
       "Cluster                                                                     \n",
       "0          57.637692   124.626167         18.425641             29.513769   \n",
       "1        1850.000000  2150.000000         45.000000             45.000000   \n",
       "\n",
       "         Gestation Period (days)  Offspring per Birth   At_Risk  \\\n",
       "Cluster                                                           \n",
       "0                     120.482051             8.517949  0.430769   \n",
       "1                     270.000000             7.500000  0.000000   \n",
       "\n",
       "         Social Encoded  Africa     Asia    Europe  Americas   Oceania  \\\n",
       "Cluster                                                                  \n",
       "0              6.466667     0.2  0.25641  0.035897  0.251282  0.128205   \n",
       "1              3.000000     1.0  0.00000  0.000000  0.000000  0.000000   \n",
       "\n",
       "           Arctic  temp_change  avg_temp_recent  \n",
       "Cluster                                          \n",
       "0        0.046154     0.808769        15.411723  \n",
       "1        0.000000     0.190000        21.703000  "
      ]
     },
     "execution_count": 660,
     "metadata": {},
     "output_type": "execute_result"
    }
   ],
   "source": [
    "df_merged.groupby('Cluster').mean(numeric_only=True)"
   ]
  },
  {
   "cell_type": "markdown",
   "id": "e68b7529",
   "metadata": {},
   "source": [
    "##### The table compares the average traits of species in each KMeans cluster.\n",
    "\n",
    "##### Cluster 0 (containing nearly all species) has moderate values across biological traits and includes both at-risk and non-at-risk species. In contrast, Cluster 1 contains only one animal, which stands out dramatically with extreme biological characteristics — it is far taller, heavier, faster, lives longer, and has a longer gestation than the average in Cluster 0.\n",
    "\n",
    "##### This indicates that Cluster 1 is a true biological outlier, likely representing a large megafauna species such as an elephant or giraffe. Its outlier nature explains why it was isolated by the clustering algorithm.\n",
    "\n",
    "##### Despite its uniqueness, this species is not at risk, and its climate conditions show a smaller recent temperature change compared to the rest. This suggests that the model identified a trait outlier, not necessarily a conservation concern.\n",
    "\n",
    "#### **Conclusion**\n",
    "##### I wanted to explore unsupervised learning, specifically clustering, to see if natural groupings would emerge based solely on animal traits—without any label guidance. The idea was to identify whether endangered species shared certain biological or environmental characteristics that could be captured through clustering.\n",
    "\n",
    "##### Although the clusters didn’t align well with the “At Risk” labels, this result is still valuable. It suggests that the factors driving extinction risk might be more complex or subtle, potentially requiring external context like climate change data, human threats, or conservation efforts that aren't fully reflected in biological traits alone.\n",
    "\n",
    "##### Unsupervised learning was used here as a form of exploratory analysis—not to replace supervised models, but to complement them by helping understand hidden patterns in the dataset."
   ]
  },
  {
   "cell_type": "markdown",
   "id": "5f7f3ca1",
   "metadata": {},
   "source": [
    "#### **Saving the model**"
   ]
  },
  {
   "cell_type": "code",
   "execution_count": 661,
   "id": "a35a5dfe",
   "metadata": {},
   "outputs": [],
   "source": [
    "import joblib"
   ]
  },
  {
   "cell_type": "code",
   "execution_count": 662,
   "id": "08403a86",
   "metadata": {},
   "outputs": [],
   "source": [
    "model_file = '../Model/predicting_model.pkl'"
   ]
  },
  {
   "cell_type": "code",
   "execution_count": 663,
   "id": "cc5d6328",
   "metadata": {},
   "outputs": [
    {
     "data": {
      "text/plain": [
       "['../Model/predicting_model.pkl']"
      ]
     },
     "execution_count": 663,
     "metadata": {},
     "output_type": "execute_result"
    }
   ],
   "source": [
    "joblib.dump(df_final, model_file)"
   ]
  }
 ],
 "metadata": {
  "kernelspec": {
   "display_name": "base",
   "language": "python",
   "name": "python3"
  },
  "language_info": {
   "codemirror_mode": {
    "name": "ipython",
    "version": 3
   },
   "file_extension": ".py",
   "mimetype": "text/x-python",
   "name": "python",
   "nbconvert_exporter": "python",
   "pygments_lexer": "ipython3",
   "version": "3.12.7"
  }
 },
 "nbformat": 4,
 "nbformat_minor": 5
}
